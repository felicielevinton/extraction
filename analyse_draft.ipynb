{
 "cells": [
  {
   "cell_type": "code",
   "execution_count": 2,
   "metadata": {},
   "outputs": [],
   "source": [
    "from kneed import DataGenerator, KneeLocator\n",
    "from quick_extract import *\n",
    "import matplotlib.pyplot as plt\n",
    "import pandas as pd\n",
    "import csv\n",
    "from format_data import *\n",
    "import pandas as pd\n",
    "from create_data import *\n",
    "import os\n",
    "import scipy.io\n",
    "import math\n",
    "from utils import *\n",
    "import glob\n",
    "from tonotopy import *"
   ]
  },
  {
   "cell_type": "code",
   "execution_count": null,
   "metadata": {},
   "outputs": [],
   "source": [
    "t_pre = 0.2#0.2\n",
    "t_post = 0.50#0.300\n",
    "bin_width = 0.005\n",
    "# Créer les bins de temps\"\n",
    "psth_bins = np.arange(-t_pre, t_post, bin_width)\n",
    "gc = np.arange(0, 32)"
   ]
  },
  {
   "cell_type": "code",
   "execution_count": null,
   "metadata": {},
   "outputs": [],
   "source": [
    "path = '/mnt/working2/felicie/data2/eTheremin/OSCYPEK/OSCYPEK/OSCYPEK_20240822_SESSION_00/'  "
   ]
  },
  {
   "cell_type": "code",
   "execution_count": null,
   "metadata": {},
   "outputs": [],
   "source": [
    "data = np.load(path+'headstage_0/data_0.005.npy', allow_pickle=True)\n",
    "features = np.load(path+'headstage_0/features_0.005.npy', allow_pickle=True)"
   ]
  },
  {
   "cell_type": "code",
   "execution_count": null,
   "metadata": {},
   "outputs": [],
   "source": [
    "tail = get_psth(data, features, t_pre, t_post, bin_width, gc, 'tail')\n",
    "tracking = get_psth(data, features, t_pre, t_post, bin_width, gc, 'tracking')\n",
    "mc = get_psth(data, features, t_pre, t_post, bin_width, gc, 'mapping change')\n",
    "playback = get_psth(data, features, t_pre, t_post, bin_width, gc, 'playback')"
   ]
  },
  {
   "cell_type": "code",
   "execution_count": null,
   "metadata": {},
   "outputs": [],
   "source": [
    "# pour plot des trucs cluster par cluster\n",
    "num_plots, num_rows, num_columns = get_better_plot_geometry(gc)\n",
    "\n",
    "\n",
    "fig, axes = plt.subplots(4, 8, figsize=(16, 8))\n",
    "fig.suptitle(' clusters', y=1.02)\n",
    "plt.subplots_adjust() \n",
    "\n",
    "for cluster in range(num_plots):\n",
    "    if cluster < num_plots:\n",
    "        row, col = get_plot_coords(cluster)\n",
    "        axes[row, col].plot(psth_bins, np.nanmean(tracking[cluster], axis=0), c = 'red')\n",
    "        axes[row, col].plot(psth_bins, np.nanmean(playback[cluster], axis=0), c = 'black')\n",
    "        axes[row, col].axvline(0, c = 'red', linestyle='--')\n",
    "        axes[row, col].set_title(f'Cluster {cluster}')"
   ]
  }
 ],
 "metadata": {
  "kernelspec": {
   "display_name": "env",
   "language": "python",
   "name": "python3"
  },
  "language_info": {
   "codemirror_mode": {
    "name": "ipython",
    "version": 3
   },
   "file_extension": ".py",
   "mimetype": "text/x-python",
   "name": "python",
   "nbconvert_exporter": "python",
   "pygments_lexer": "ipython3",
   "version": "3.8.10"
  }
 },
 "nbformat": 4,
 "nbformat_minor": 2
}
