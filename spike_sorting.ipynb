{
 "cells": [
  {
   "cell_type": "code",
   "execution_count": 1,
   "metadata": {},
   "outputs": [],
   "source": [
    "import numpy as np\n",
    "import scipy.io"
   ]
  },
  {
   "cell_type": "code",
   "execution_count": 2,
   "metadata": {},
   "outputs": [],
   "source": [
    "path = 'Z:/eTheremin/OSCYPEK/OSCYPEK/OSCYPEK_20240710_SESSION_00/headstage_0'"
   ]
  },
  {
   "cell_type": "code",
   "execution_count": 3,
   "metadata": {},
   "outputs": [],
   "source": [
    "def convert_mat_to_npy(mat_file, npy_file):\n",
    "    # Charger le fichier .mat#create_data_features(path, bin_width, sr)\n",
    "    mat_data = scipy.io.loadmat(mat_file)\n",
    "    \n",
    "    # Si tu veux sauvegarder tout le contenu du fichier .mat dans un fichier .npy\n",
    "    #np.save(npy_file, mat_data)\n",
    "    \n",
    "    np.save(npy_file, mat_data['cluster_class'])\n"
   ]
  },
  {
   "cell_type": "code",
   "execution_count": 32,
   "metadata": {},
   "outputs": [
    {
     "name": "stdout",
     "output_type": "stream",
     "text": [
      "101\n"
     ]
    }
   ],
   "source": [
    "spk_clusters = np.load(path+'/ss_spike_clusters.npy', allow_pickle=True)\n",
    "k = np.unique(spk_clusters)\n",
    "print(k[3])"
   ]
  },
  {
   "cell_type": "code",
   "execution_count": 25,
   "metadata": {},
   "outputs": [],
   "source": [
    "# Convertir .mat en .npy\n",
    "\n",
    "num_channel = 2\n",
    "spk_clus_f = []\n",
    "spk_times_f = []\n",
    "#print('Z:/eTheremin/OSCYPEK/OSCYPEK/OSCYPEK_20240710_SESSION_00/Nouveaudossier/times_C_{channel}.npy')\n",
    "\n",
    "for channel in range(num_channel):\n",
    "    mat_file = 'Z:/eTheremin/OSCYPEK/OSCYPEK/OSCYPEK_20240710_SESSION_00/spike_sorting/times_C' + str(channel) + '.mat'\n",
    "    npy_file = 'Z:/eTheremin/OSCYPEK/OSCYPEK/OSCYPEK_20240710_SESSION_00/spike_sorting/times_C' + str(channel) + '.npy'\n",
    "    convert_mat_to_npy(mat_file, npy_file)\n",
    "    #load le fichier .npy\n",
    "    ss = np.load(npy_file, allow_pickle=True)\n",
    "\n",
    "    # diviser le fichier en temps de spikes et clusters associés\n",
    "    spk_clus = ss[:,0]\n",
    "    spk_clus = [x + channel*100 for x in spk_clus]\n",
    "    spk_clus = [int(elt) for elt in spk_clus]\n",
    "    spk_times = ss[:, 1]\n",
    "    spk_clus_f = spk_clus_f + spk_clus\n",
    "    spk_times_f = np.concatenate((spk_times_f, spk_times))\n",
    "\n",
    "#save\n",
    "np.save(path + '/ss_spike_clusters.npy',spk_clus_f)\n",
    "np.save(path + '/ss_spike_times.npy',spk_times_f)"
   ]
  },
  {
   "cell_type": "code",
   "execution_count": 11,
   "metadata": {},
   "outputs": [
    {
     "name": "stdout",
     "output_type": "stream",
     "text": [
      "219679\n",
      "(219679, 2)\n"
     ]
    }
   ],
   "source": [
    "print(len(ss))\n",
    "print(ss.shape)"
   ]
  },
  {
   "cell_type": "code",
   "execution_count": 12,
   "metadata": {},
   "outputs": [
    {
     "name": "stdout",
     "output_type": "stream",
     "text": [
      "Cluster 0 :\n",
      "  Min : 56878.76666666666\n",
      "  Max : 3363385.4333333327\n",
      "  Moyenne : 1249405.794513017\n",
      "  Ecart-type : 998415.5056332422\n",
      "Cluster 1 :\n",
      "  Min : 64847.83333333333\n",
      "  Max : 3358039.2999999993\n",
      "  Moyenne : 1332127.3475775046\n",
      "  Ecart-type : 1035829.028907453\n",
      "Cluster 2 :\n",
      "  Min : 56877.7\n",
      "  Max : 3363197.6999999993\n",
      "  Moyenne : 1228432.9340391536\n",
      "  Ecart-type : 967141.5243715986\n"
     ]
    }
   ],
   "source": [
    "#print(ss[20:50])\n",
    "clusters = np.unique(ss[:, 0])\n",
    "\n",
    "# Dictionnaire pour stocker les statistiques de chaque cluster\n",
    "cluster_stats = {}\n",
    "\n",
    "# Boucle sur chaque cluster\n",
    "for cluster in clusters:\n",
    "    # Filtrer les lignes qui correspondent au numéro de cluster actuel\n",
    "    cluster_times = ss[ss[:, 0] == cluster][:, 1]\n",
    "    \n",
    "    # Calculer les statistiques : min, max, moyenne, écart-type\n",
    "    min_time = np.min(cluster_times)\n",
    "    max_time = np.max(cluster_times)\n",
    "    mean_time = np.mean(cluster_times)\n",
    "    std_time = np.std(cluster_times)\n",
    "    \n",
    "    # Stocker les résultats dans le dictionnaire\n",
    "    cluster_stats[cluster] = {\n",
    "        'min': min_time,\n",
    "        'max': max_time,\n",
    "        'mean': mean_time,\n",
    "        'std': std_time\n",
    "    }\n",
    "\n",
    "# Afficher les résultats pour chaque cluster\n",
    "for cluster, stats in cluster_stats.items():\n",
    "    print(f\"Cluster {int(cluster)} :\")\n",
    "    print(f\"  Min : {stats['min']}\")\n",
    "    print(f\"  Max : {stats['max']}\")\n",
    "    print(f\"  Moyenne : {stats['mean']}\")\n",
    "    print(f\"  Ecart-type : {stats['std']}\")\n"
   ]
  },
  {
   "cell_type": "code",
   "execution_count": 37,
   "metadata": {},
   "outputs": [
    {
     "data": {
      "text/plain": [
       "56.18684833333332"
      ]
     },
     "execution_count": 37,
     "metadata": {},
     "output_type": "execute_result"
    }
   ],
   "source": [
    "#ensuite il faut faire tourner 4pipeline_create_npy.py en décommentant : \n",
    "\n",
    "#version test de spike_sorting\n",
    "#create_data_features_ss(path+'headstage_0/', bin_width, fs, mock=False)\n",
    "\n",
    "#et commenter :\n",
    "#create_data_features_mock(path+'headstage_0/', bin_width, sr, mock=False)"
   ]
  },
  {
   "cell_type": "code",
   "execution_count": null,
   "metadata": {},
   "outputs": [],
   "source": [
    "#pour voir les psth : aller dans analysebingobike et faire touner analyse_clara !"
   ]
  }
 ],
 "metadata": {
  "kernelspec": {
   "display_name": "Python 3",
   "language": "python",
   "name": "python3"
  },
  "language_info": {
   "codemirror_mode": {
    "name": "ipython",
    "version": 3
   },
   "file_extension": ".py",
   "mimetype": "text/x-python",
   "name": "python",
   "nbconvert_exporter": "python",
   "pygments_lexer": "ipython3",
   "version": "3.11.9"
  }
 },
 "nbformat": 4,
 "nbformat_minor": 2
}
