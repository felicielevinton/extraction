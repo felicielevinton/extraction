{
 "cells": [
  {
   "cell_type": "code",
   "execution_count": 19,
   "metadata": {},
   "outputs": [],
   "source": [
    "import numpy as np\n",
    "import scipy.io"
   ]
  },
  {
   "cell_type": "code",
   "execution_count": 20,
   "metadata": {},
   "outputs": [],
   "source": [
    "path = '/auto/data2/eTheremin/OSCYPEK/OSCYPEK/OSCYPEK_20240710_SESSION_00/headstage_0'"
   ]
  },
  {
   "cell_type": "code",
   "execution_count": 21,
   "metadata": {},
   "outputs": [],
   "source": [
    "def convert_mat_to_npy(mat_file, npy_file):\n",
    "    # Charger le fichier .mat\n",
    "    mat_data = scipy.io.loadmat(mat_file)\n",
    "    \n",
    "    # Si tu veux sauvegarder tout le contenu du fichier .mat dans un fichier .npy\n",
    "    #np.save(npy_file, mat_data)\n",
    "    \n",
    "    np.save(npy_file, mat_data['cluster_class'])\n"
   ]
  },
  {
   "cell_type": "code",
   "execution_count": 39,
   "metadata": {},
   "outputs": [],
   "source": [
    "# Convertir .mat en .npy\n",
    "mat_file = '/auto/data2/eTheremin/OSCYPEK/OSCYPEK/OSCYPEK_20240710_SESSION_00/times_C21.mat'\n",
    "npy_file = '/auto/data2/eTheremin/OSCYPEK/OSCYPEK/OSCYPEK_20240710_SESSION_00/times_C21.npy'\n",
    "convert_mat_to_npy(mat_file, npy_file)"
   ]
  },
  {
   "cell_type": "code",
   "execution_count": 23,
   "metadata": {},
   "outputs": [],
   "source": [
    "#load le fichier .npy\n",
    "ss = np.load(npy_file, allow_pickle=True)"
   ]
  },
  {
   "cell_type": "code",
   "execution_count": 26,
   "metadata": {},
   "outputs": [],
   "source": [
    "# diviser le fichier en temps de spikes et clusers associés\n",
    "spk_clus = ss[:, 0]\n",
    "spk_times = ss[:, 1]\n",
    "spk_clus = [int(elt) for elt in spk_clus]"
   ]
  },
  {
   "cell_type": "code",
   "execution_count": 27,
   "metadata": {},
   "outputs": [],
   "source": [
    "np.save(path + '/ss_spike_clusters.npy',spk_clus)\n",
    "np.save(path + '/ss_spike_times.npy',spk_times)"
   ]
  },
  {
   "cell_type": "code",
   "execution_count": 37,
   "metadata": {},
   "outputs": [
    {
     "data": {
      "text/plain": [
       "56.18684833333332"
      ]
     },
     "execution_count": 37,
     "metadata": {},
     "output_type": "execute_result"
    }
   ],
   "source": [
    "#ensuite "
   ]
  }
 ],
 "metadata": {
  "kernelspec": {
   "display_name": "Python 3",
   "language": "python",
   "name": "python3"
  },
  "language_info": {
   "codemirror_mode": {
    "name": "ipython",
    "version": 3
   },
   "file_extension": ".py",
   "mimetype": "text/x-python",
   "name": "python",
   "nbconvert_exporter": "python",
   "pygments_lexer": "ipython3",
   "version": "3.10.12"
  }
 },
 "nbformat": 4,
 "nbformat_minor": 2
}
