{
 "cells": [
  {
   "cell_type": "code",
   "execution_count": 4,
   "metadata": {},
   "outputs": [],
   "source": [
    "\n",
    "import re\n",
    "import os\n",
    "import glob\n",
    "import warnings\n",
    "from copy import deepcopy\n",
    "import json\n",
    "import pickle\n",
    "import matplotlib\n",
    "matplotlib.use('Agg')\n",
    "from tonotopy import *\n",
    "from functions_get_data import *\n",
    "import numpy as np\n",
    "from utils_extraction import get_session_type_final\n",
    "from utils_tt import *"
   ]
  },
  {
   "cell_type": "code",
   "execution_count": 5,
   "metadata": {},
   "outputs": [],
   "source": [
    "sr = 30e3\n",
    "t_pre = 0.2#0.2\n",
    "t_post = 0.50#0.300\n",
    "bin_width = 0.005\n",
    "#bin_width = 0.02\n",
    "psth_bins = np.arange(-t_pre, t_post + bin_width, bin_width)\n",
    "max_freq = 3\n",
    "min_freq=1 #3 for A1\n",
    "threshold = 3.2 #threshold for contour detection 3.2 is good"
   ]
  },
  {
   "cell_type": "code",
   "execution_count": 6,
   "metadata": {},
   "outputs": [],
   "source": [
    "from functions_get_data import *\n",
    "import numpy as np\n",
    "from utils_extraction import get_session_type_final\n",
    "from utils_tt import *"
   ]
  },
  {
   "cell_type": "code",
   "execution_count": 7,
   "metadata": {},
   "outputs": [],
   "source": [
    "session = 'MMELOIK_20241025_1/MMELOIK_20241025_SESSION_00'\n",
    "path = '/Volumes/data6/eTheremin/MMELOIK/'+ session + '/'"
   ]
  },
  {
   "cell_type": "code",
   "execution_count": null,
   "metadata": {},
   "outputs": [],
   "source": [
    "path"
   ]
  },
  {
   "cell_type": "code",
   "execution_count": 8,
   "metadata": {},
   "outputs": [],
   "source": [
    "an_triggers = np.load(path+'headstage_0/analog_in.npy')\n",
    "analog_line = 0\n",
    "an_times = ut.extract_analog_triggers_compat(an_triggers[analog_line])"
   ]
  },
  {
   "cell_type": "code",
   "execution_count": null,
   "metadata": {},
   "outputs": [],
   "source": []
  },
  {
   "cell_type": "code",
   "execution_count": null,
   "metadata": {},
   "outputs": [],
   "source": [
    "triggers_tr, tones_total_tr = get_triggers(path+'headstage_0/', analog_line=0)\n",
    "triggers_pb, tones_total_pb = get_triggers(path+'headstage_0/', analog_line=1)"
   ]
  },
  {
   "cell_type": "code",
   "execution_count": 15,
   "metadata": {},
   "outputs": [],
   "source": [
    "tones = np.fromfile(path + 'headstage_0/tones/tones_00_MMELOIK_SESSION_00_20241025.bin', dtype=np.double)\n",
    "triggers = an_times\n",
    "block = np.full((len(tones),), 'Block_000')\n",
    "condition = np.zeros(len(tones))\n"
   ]
  },
  {
   "cell_type": "code",
   "execution_count": 16,
   "metadata": {},
   "outputs": [],
   "source": [
    "tt = {\n",
    "        'tones': tones,\n",
    "        'triggers': triggers,\n",
    "        'block': block, \n",
    "        'condition' : condition\n",
    "    }\n",
    "\n",
    "    \n",
    "    #filtrer le tt\n",
    "filtered_triggers = [\n",
    "    trigger for trigger, block, condition in zip(tt['triggers'], tt['block'], tt['condition'])\n",
    "    if block is not None and condition is not None\n",
    "    ]\n",
    "\n",
    "    # Mise à jour du dictionnaire avec la liste filtrée\n",
    "tt['triggers'] = filtered_triggers\n",
    "     \n",
    "    # save tt.pkl\n",
    "with open(path+'headstage_0/tt.pkl', 'wb') as file:\n",
    "    pickle.dump(tt, file)"
   ]
  },
  {
   "cell_type": "code",
   "execution_count": null,
   "metadata": {},
   "outputs": [],
   "source": []
  },
  {
   "cell_type": "code",
   "execution_count": null,
   "metadata": {},
   "outputs": [],
   "source": [
    "heatmaps = get_tonotopy(data, features, t_pre, t_post, bin_width, gc, unique_tones, max_freq, min_freq, 'playback', 'heatmaps')"
   ]
  },
  {
   "cell_type": "code",
   "execution_count": null,
   "metadata": {},
   "outputs": [],
   "source": [
    "plot_heatmap_bandwidth(heatmaps,threshold, gc,unique_tones, min_freq, max_freq, bin_width, psth_bins, t_pre,path, '', 'tono')\n"
   ]
  }
 ],
 "metadata": {
  "kernelspec": {
   "display_name": "env",
   "language": "python",
   "name": "python3"
  },
  "language_info": {
   "codemirror_mode": {
    "name": "ipython",
    "version": 3
   },
   "file_extension": ".py",
   "mimetype": "text/x-python",
   "name": "python",
   "nbconvert_exporter": "python",
   "pygments_lexer": "ipython3",
   "version": "3.9.6"
  }
 },
 "nbformat": 4,
 "nbformat_minor": 2
}
