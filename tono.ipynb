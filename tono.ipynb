{
 "cells": [
  {
   "cell_type": "code",
   "execution_count": null,
   "metadata": {},
   "outputs": [],
   "source": [
    "import numpy as np\n",
    "import matplotlib.pyplot as plt\n",
    "from matplotlib import colors\n",
    "\n",
    "# Exemple de matrice PSTH moyen (neurone x temps)\n",
    "# Suppose que la matrice `psth` représente l'activité d'un neurone en fonction du temps et des fréquences\n",
    "# (par exemple 10 fréquences et 100 points temporels)\n",
    "psth = np.random.randn(10, 100)  # Matrice aléatoire pour l'exemple\n",
    "\n",
    "# Créer les axes de temps et de fréquence (peut être ajusté selon tes données)\n",
    "temps = np.linspace(0, 100, 100)  # Axe du temps (abscisse)\n",
    "frequences = np.linspace(100, 1000, 10)  # Axe des fréquences (ordonnée)\n",
    "\n",
    "# Définir la colormap centrée sur 0\n",
    "# Utilisation de 'seismic' qui va de bleu à rouge, avec un centre blanc\n",
    "vmin = np.min(psth)  # Valeur minimale dans ta matrice\n",
    "vmax = np.max(psth)  # Valeur maximale dans ta matrice\n",
    "norm = colors.TwoSlopeNorm(vmin=vmin, vcenter=0, vmax=vmax)  # Normalisation centrée sur 0\n",
    "\n",
    "# Création du plot\n",
    "plt.figure(figsize=(8, 6))\n",
    "plt.imshow(psth, aspect='auto', cmap='seismic', norm=norm, extent=[temps[0], temps[-1], frequences[0], frequences[-1]])\n",
    "\n",
    "# Ajouter les étiquettes des axes\n",
    "plt.colorbar(label='Activité neuronale')\n",
    "plt.xlabel('Temps (ms)')\n",
    "plt.ylabel('Fréquences (Hz)')\n",
    "plt.title('Raster plot du PSTH moyen')\n",
    "\n",
    "# Afficher le graphique\n",
    "plt.show()\n"
   ]
  }
 ],
 "metadata": {
  "language_info": {
   "name": "python"
  }
 },
 "nbformat": 4,
 "nbformat_minor": 2
}
