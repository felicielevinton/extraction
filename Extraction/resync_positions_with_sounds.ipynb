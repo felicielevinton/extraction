{
 "cells": [
  {
   "cell_type": "code",
   "execution_count": 59,
   "id": "initial_id",
   "metadata": {
    "ExecuteTime": {
     "end_time": "2023-08-30T10:52:49.965618Z",
     "start_time": "2023-08-30T10:52:47.701575Z"
    },
    "collapsed": true
   },
   "outputs": [],
   "source": [
    "import numpy as np\n",
    "import matplotlib.pyplot as plt\n",
    "import os\n",
    "from glob import glob\n",
    "import re"
   ]
  },
  {
   "cell_type": "markdown",
   "id": "21f5c8ee",
   "metadata": {},
   "source": [
    "comprendre comment on passe des positions aux fréquences sans convertir les positions en pixels????"
   ]
  },
  {
   "cell_type": "code",
   "execution_count": 60,
   "id": "466d76d443d8c770",
   "metadata": {
    "ExecuteTime": {
     "end_time": "2023-08-30T10:52:49.978350Z",
     "start_time": "2023-08-30T10:52:49.970379Z"
    },
    "collapsed": false
   },
   "outputs": [],
   "source": [
    "# Charger les fichiers de positions. Puis 1) les nettoyer. 2) Convertir en fréquences. 3) resynchroniser avec le son."
   ]
  },
  {
   "cell_type": "code",
   "execution_count": 61,
   "id": "454a2a0893438c71",
   "metadata": {
    "ExecuteTime": {
     "end_time": "2023-08-31T08:39:14.267343Z",
     "start_time": "2023-08-31T08:39:14.195098Z"
    },
    "collapsed": false
   },
   "outputs": [],
   "source": [
    "class Mapping(object):\n",
    "    \"\"\"\n",
    "    \n",
    "    \"\"\"\n",
    "    def __init__(self, width, n_freq, mid, octave):\n",
    "        \"\"\"\n",
    "        Construction d'un objet de Mapping.\n",
    "        :param width: Largeur de l'image en pixels. \n",
    "        :param n_freq: Nombre de fréquences.\n",
    "        :param mid: Fréquence du milieu.\n",
    "        :param octave: Nombre d'octaves.\n",
    "        \"\"\"\n",
    "        self.bandwidth = width / (n_freq - 1)\n",
    "        self.half_bandwidth = self.bandwidth // 2\n",
    "        self.width = width\n",
    "        self.mid = mid\n",
    "        self.o = octave\n",
    "        self.m_numFrequency = n_freq\n",
    "        self._lut_indices = np.zeros(self.width, dtype=int)\n",
    "        self.tones = np.zeros(n_freq)\n",
    "        self._lut_tones = np.zeros(self.width)\n",
    "        self._build_lut()\n",
    "\n",
    "    def _build_lut(self):\n",
    "        \"\"\"\n",
    "        Construit la \"look-up table\" des indices du mapping et également la LUT des fréquences.\n",
    "        \"\"\"\n",
    "        \n",
    "        def mapping(mid, n, o):\n",
    "            _t = np.zeros(n)\n",
    "            m_idx = n // 2\n",
    "            _t[m_idx] = 0\n",
    "            s = o / n\n",
    "            _t[:m_idx] = np.arange((- n // 2) + 1, 0)\n",
    "            _t[m_idx + 1:] = np.arange(1, n // 2 + 1)\n",
    "            _t = np.round(mid * np.power(2, _t * s))\n",
    "            return _t\n",
    "        \n",
    "        def func(position):\n",
    "            if position < self.half_bandwidth:\n",
    "                index = 0\n",
    "            elif position > (self.width - self.half_bandwidth):\n",
    "                index = self.m_numFrequency - 1\n",
    "            else:\n",
    "                index = position - self.half_bandwidth\n",
    "                index //= self.bandwidth\n",
    "                index += 1\n",
    "            return int(index)\n",
    "        \n",
    "        def func_fill_tones(position, tones):\n",
    "            return tones[func(position)]\n",
    "        \n",
    "        self.tones = mapping(self.mid, self.m_numFrequency, 7.0)\n",
    "        for i in range(self.width):\n",
    "            self._lut_indices[i] = func(i)\n",
    "            self._lut_tones[i] = func_fill_tones(i, self.tones)\n",
    "            \n",
    "\n",
    "    def get_start_stop(self, motion):\n",
    "        \"\"\"\n",
    "        Renvoie les indices de départ et d'arrivée pour un mouvement donnée.\n",
    "        \"\"\"\n",
    "        start = self._lut_indices[motion[0]]\n",
    "        stop = self._lut_indices[motion[1]]\n",
    "        return start, stop\n",
    "    \n",
    "    def convert_position(self, x):\n",
    "        if not np.isnan(x) and x != -1:\n",
    "            return self._lut_tones[int(x)]\n",
    "        else:\n",
    "            return -1\n",
    "    \n",
    "    def convert_to_frequency(self, motion):\n",
    "        \"\"\"\n",
    "        Renvoie les fréquences correspondantes aux positions dans un vecteur.\n",
    "        :param motion: \n",
    "        :return: \n",
    "        \"\"\"\n",
    "        t = np.zeros(len(motion), dtype=float)\n",
    "        for i, _p in enumerate(motion):\n",
    "            if not np.isnan(_p):\n",
    "                t[i] = self._lut_tones[int(_p)]\n",
    "            else:\n",
    "                t[i] = np.nan\n",
    "        return t"
   ]
  },
  {
   "cell_type": "code",
   "execution_count": 62,
   "id": "f9ac7a69a59e50ab",
   "metadata": {
    "ExecuteTime": {
     "end_time": "2023-08-31T08:39:15.558509Z",
     "start_time": "2023-08-31T08:39:15.529425Z"
    },
    "collapsed": false
   },
   "outputs": [],
   "source": [
    "def clean_positions(positions):\n",
    "    \"\"\"\n",
    "    Fonction de nettoyage des positions enregistrées au cours de l'expérience. Pour rappel, une valeur de -1, indique que le sujet n'a pas été détecté par le réseau de neurones.\n",
    "    :param positions: \n",
    "    :return: \n",
    "    \"\"\"\n",
    "    y = np.where(positions == -1)[0]\n",
    "    diff_y = np.diff(y)\n",
    "    diff_y = np.vstack((np.arange(1, len(diff_y) + 1), diff_y)).T\n",
    "    k = 0\n",
    "    begin = 0\n",
    "    for i, elt in diff_y:\n",
    "        if elt != 1:\n",
    "            positions[y[i - 1]] = positions[y[i - 1] + 1]\n",
    "            positions[y[i]] = positions[y[i] - 1]\n",
    "            if k != 0:\n",
    "                end = y[i - 1]\n",
    "                filler = np.full(shape=k, fill_value=positions[begin - 1])\n",
    "                positions[begin:end] = filler\n",
    "                k = 0\n",
    "        else:\n",
    "            if k == 0:\n",
    "                begin = y[i - 1]\n",
    "            k += 1\n",
    "    remainder = np.where(positions == -1)[0]\n",
    "    if len(remainder) != 0 and k != 0:\n",
    "        pass\n",
    "\n",
    "    return positions\n",
    "\n",
    "\n",
    "def stack_positions_data(positions_files):\n",
    "    \"\"\"\n",
    "    Retourne les vecteurs continus, et un np.ndarray des positons où il faudra recouper pour séparer à nouveau.\n",
    "    :param positions_files: \n",
    "    :return: \n",
    "    \"\"\"\n",
    "    # Ici, il va falloir garder en mémoire la dimension exacte de chaque sous tableau.\n",
    "    split_mem = np.zeros(len(positions_files) - 1, dtype=int)\n",
    "    is_playback = list()\n",
    "    playback_pattern = \"positions_Playback_playback_0[0-9]\"\n",
    "    positions_vectors = list()\n",
    "    start = 0\n",
    "    for i, file in enumerate(positions_files):\n",
    "        # Je connais les indices où sont les positions de playback.\n",
    "        if re.search(playback_pattern, file):\n",
    "            is_playback.append(i)\n",
    "        vec = np.fromfile(file, dtype=np.int32)\n",
    "        if i != (len(positions_files) - 1):\n",
    "            start += len(vec)\n",
    "            split_mem[i] = start\n",
    "        positions_vectors.append(vec)\n",
    "    cp = clean_positions(np.hstack(positions_vectors))\n",
    "    cp = np.split(cp, split_mem)\n",
    "    playback_positions_list = [cp[i] for i in is_playback]\n",
    "    print(is_playback)\n",
    "    return playback_positions_list\n",
    "\n",
    "\n",
    "def stack_positions_data_tracking(positions_files):\n",
    "    \"\"\"\n",
    "    Retourne les vecteurs continus, et un np.ndarray des positons où il faudra recouper pour séparer à nouveau.\n",
    "    :param positions_files: \n",
    "    :return: \n",
    "    \"\"\"\n",
    "    # Ici, il va falloir garder en mémoire la dimension exacte de chaque sous tableau.\n",
    "    split_mem = np.zeros(len(positions_files) - 1, dtype=int)\n",
    "    is_playback = list()\n",
    "    playback_pattern = \"positions_Playback_tracking_0[0-9]\"\n",
    "    positions_vectors = list()\n",
    "    start = 0\n",
    "    for i, file in enumerate(positions_files):\n",
    "        # Je connais les indices où sont les positions de playback.\n",
    "        if re.search(playback_pattern, file):\n",
    "            is_playback.append(i)\n",
    "        vec = np.fromfile(file, dtype=np.int32)\n",
    "        if i != (len(positions_files) - 1):\n",
    "            start += len(vec)\n",
    "            split_mem[i] = start\n",
    "        positions_vectors.append(vec)\n",
    "    # print(is_playback)\n",
    "    cp = clean_positions(np.hstack(positions_vectors))\n",
    "    cp = np.split(cp, split_mem)\n",
    "    playback_positions_list = [cp[i] for i in is_playback]\n",
    "    print(is_playback)\n",
    "    return playback_positions_list\n",
    "    \n",
    "    \n",
    "def detect_frequency_switch(vec, mapping):\n",
    "    \"\"\"\n",
    "    Fonction qui a pour objectif de détecter les changements de fréquences.\n",
    "    :param mapping:\n",
    "    :param vec: \n",
    "    :return: \n",
    "    \"\"\"\n",
    "    # print(np.unique(vec))\n",
    "    tone_vec = mapping.convert_to_frequency(vec)\n",
    "    d = np.diff(tone_vec)\n",
    "    idx = np.where(d != 0)[0] + 1\n",
    "    switch = tone_vec[idx]\n",
    "    return switch\n",
    "\n",
    "\n",
    "def load_mock_tones_files(folder):\n",
    "    return _load_tones(folder, \"mock\")\n",
    "\n",
    "\n",
    "def load_playback_tones_files(folder):\n",
    "    return _load_tones(folder, \"playback\")\n",
    "\n",
    "\n",
    "def load_tracking_tones_files(folder):\n",
    "    return _load_tones(folder, \"tracking\")\n",
    "\n",
    "\n",
    "def load_warmup_tones_files(folder):\n",
    "    return _load_tones(folder, \"warmup\")\n",
    "\n",
    "\n",
    "def _load_tones(folder, type_of):\n",
    "    glob_files = glob(os.path.join(folder, \"tones\", \"*.bin\"))\n",
    "    #pattern = f\"{type_of}_0[0-9]\"\n",
    "    pattern = f\"{type_of}_0[0-5]_*_*_*_*\"\n",
    "    clean_files = list()\n",
    "    print(glob_files)\n",
    "    for file in glob_files:\n",
    "        if re.search(pattern, file):\n",
    "            clean_files.append(file)\n",
    "    files = [\"\" for _ in clean_files]\n",
    "    for file in clean_files:\n",
    "        match = re.search(rf'{type_of}_(\\d+)', file)\n",
    "        if match:\n",
    "            value = int(match.group(1))\n",
    "            p = np.fromfile(file, dtype=float)\n",
    "            files[value] = p\n",
    "    return files\n",
    "\n",
    "\n",
    "def load_positions_file(folder):\n",
    "    \"\"\"\n",
    "    Retourne une liste avec les fichiers des positions enregistrées au cours de l'expérience ordonnés.\n",
    "    :param folder: Dossier de sauvegarde de l'expérience.\n",
    "    :return: Une liste avec les noms de fichiers dans l'ordre chronologique.\n",
    "    \"\"\"\n",
    "    # Pipeline : extraire tous les fichiers, les remettre dans l'ordre. Nettoyer, couper.\n",
    "    # Extraire les fréquences du Mock.\n",
    "    # Comparer la longueur, une fois les changements détectés. OK.\n",
    "    pause_pattern = \"positions_Pause_0[0-9]\"\n",
    "    playback_pattern = \"positions_playback_0[0-9]\"\n",
    "    tracking_pattern = \"positions_tracking_0[0-9]\"\n",
    "    warmup_pattern = \"positions_tail_0[0-9]\"\n",
    "\n",
    "    glob_files = glob(os.path.join(folder, \"positions\", \"positions_*.bin\"))\n",
    "    types_pos_list = [list() for _ in range(4)]\n",
    "    for file in glob_files:\n",
    "        if re.search(pause_pattern, file):\n",
    "            types_pos_list[0].append(file)\n",
    "        elif re.search(warmup_pattern, file):\n",
    "            types_pos_list[1].append(file)\n",
    "        elif re.search(tracking_pattern, file):\n",
    "            types_pos_list[2].append(file)\n",
    "        elif re.search(playback_pattern, file):\n",
    "            types_pos_list[3].append(file)\n",
    "    \n",
    "    out = [\"\" for _ in glob_files]\n",
    "    \n",
    "    for file_name in types_pos_list[0]:\n",
    "        match = re.search(r'positions_Pause_(\\d+)', file_name)\n",
    "        if match:\n",
    "            value = int(match.group(1))\n",
    "            if value == 0:\n",
    "                out[0] = file_name\n",
    "            else:\n",
    "                out[-1] = file_name\n",
    "                \n",
    "    for file_name in types_pos_list[1]:\n",
    "        match = re.search(r'positions_Playback_warmup_(\\d+)', file_name)\n",
    "        if match:\n",
    "            value = int(match.group(1))\n",
    "            if value == 0:\n",
    "                out[1] = file_name\n",
    "            else:\n",
    "                out[-2] = file_name\n",
    "    idx = 2\n",
    "    n_iter = len(types_pos_list[2])\n",
    "    \n",
    "    for i in range(n_iter):\n",
    "        file_name = types_pos_list[2][i]\n",
    "        match = re.search(r'positions_Playback_tracking_(\\d+)', file_name)\n",
    "        if match:\n",
    "            value = int(match.group(1))\n",
    "            out[idx + value * 2] = file_name\n",
    "        \n",
    "        file_name = types_pos_list[3][i]\n",
    "        match = re.search(r'positions_Playback_playback_(\\d+)', file_name)\n",
    "        if match:\n",
    "            value = int(match.group(1))\n",
    "            out[idx + value * 2 + 1] = file_name\n",
    "    return out\n",
    "\n",
    "\n",
    "def test(folder):\n",
    "    o = load_positions_file(folder)\n",
    "    split_mem = np.zeros(len(o) - 1, dtype=int)\n",
    "    positions_vectors = list()\n",
    "    start = 0\n",
    "    for i, file in enumerate(b):\n",
    "        # Je connais les indices où sont les positions de playback.\n",
    "        vec = np.fromfile(file, dtype=np.int32)\n",
    "        if i != (len(o) - 1):\n",
    "            start += len(vec)\n",
    "            split_mem[i] = start\n",
    "        positions_vectors.append(vec)\n",
    "    cp = np.hstack(positions_vectors)\n",
    "    cp = np.split(cp, split_mem)\n",
    "    print(f\"Length : {len(cp)}, {len(o)}, {len(positions_vectors)}\")\n",
    "    for i in range(len(cp)):\n",
    "        print(len(cp[i]) == len(positions_vectors[i]))\n",
    "    for i in range(len(cp)):\n",
    "        print(cp[i] == positions_vectors[i])\n",
    "        \n",
    "    return "
   ]
  },
  {
   "cell_type": "code",
   "execution_count": 63,
   "id": "3509d3e5",
   "metadata": {},
   "outputs": [],
   "source": [
    "def _load_tones(folder, type_of):\n",
    "    glob_files = glob(os.path.join(folder, \"tones\", \"*.bin\"))\n",
    "    #pattern = f\"{type_of}_0[0-9]\"\n",
    "    pattern = f\"{type_of}_0[0-5]_*_*_*_*\"\n",
    "    clean_files = list()\n",
    "    print(glob_files)\n",
    "    for file in glob_files:\n",
    "        if re.search(pattern, file):\n",
    "            clean_files.append(file)\n",
    "    files = [\"\" for _ in clean_files]\n",
    "    return clean_files"
   ]
  },
  {
   "cell_type": "code",
   "execution_count": 64,
   "id": "e4c7c876",
   "metadata": {},
   "outputs": [],
   "source": [
    "def load_positions_file(folder):\n",
    "    \"\"\"\n",
    "    Retourne une liste avec les fichiers des positions enregistrées au cours de l'expérience ordonnés.\n",
    "    :param folder: Dossier de sauvegarde de l'expérience.\n",
    "    :return: Une liste avec les noms de fichiers dans l'ordre chronologique.\n",
    "    \"\"\"\n",
    "    # Pipeline : extraire tous les fichiers, les remettre dans l'ordre. Nettoyer, couper.\n",
    "    # Extraire les fréquences du Mock.\n",
    "    # Comparer la longueur, une fois les changements détectés. OK.\n",
    "    pause_pattern = \"positions_Pause_0[0-9]\"\n",
    "    playback_pattern = \"positions_playback_0[0-9]\"\n",
    "    tracking_pattern = \"positions_tracking_0[0-9]\"\n",
    "    warmup_pattern = \"positions_tail_0[0-9]\"\n",
    "\n",
    "    glob_files = glob(os.path.join(folder, \"positions\", \"positions_*.bin\"))\n",
    "    print(glob_files)\n",
    "    types_pos_list = [list() for _ in range(4)]\n",
    "    for file in glob_files:\n",
    "        if re.search(pause_pattern, file):\n",
    "            types_pos_list[0].append(file)\n",
    "        elif re.search(warmup_pattern, file):\n",
    "            types_pos_list[1].append(file)\n",
    "        elif re.search(tracking_pattern, file):\n",
    "            types_pos_list[2].append(file)\n",
    "        elif re.search(playback_pattern, file):\n",
    "            types_pos_list[3].append(file)\n",
    "    \n",
    "    out = [\"\" for _ in glob_files]\n",
    "    print(types_pos_list)\n",
    "    \n",
    "    for file_name in types_pos_list[0]:\n",
    "        match = re.search(r'positions_Pause_(\\d+)', file_name)\n",
    "        if match:\n",
    "            value = int(match.group(1))\n",
    "            if value == 0:\n",
    "                out[0] = file_name\n",
    "            else:\n",
    "                out[-1] = file_name\n",
    "                \n",
    "    for file_name in types_pos_list[1]:\n",
    "        match = re.search(r'positions_tail_(\\d+)', file_name)\n",
    "        if match:\n",
    "            value = int(match.group(1))\n",
    "            if value == 0:\n",
    "                out[1] = file_name\n",
    "            else:\n",
    "                out[-2] = file_name\n",
    "    idx = 2\n",
    "    n_iter = len(types_pos_list[2])\n",
    "    \n",
    "    for i in range(n_iter):\n",
    "        file_name = types_pos_list[2][i]\n",
    "        match = re.search(r'positions_tracking_(\\d+)', file_name)\n",
    "        if match:\n",
    "            value = int(match.group(1))\n",
    "            out[idx + value * 2] = file_name\n",
    "        \n",
    "        file_name = types_pos_list[3][i]\n",
    "        match = re.search(r'positions_playback_(\\d+)', file_name)\n",
    "        print(match)\n",
    "        if match:\n",
    "            print('yes')\n",
    "            value = int(match.group(1))\n",
    "            print(idx + value * 2 + 1)\n",
    "            out[idx + value * 2 + 1] = file_name\n",
    "    return out, types_pos_list"
   ]
  },
  {
   "cell_type": "code",
   "execution_count": 65,
   "id": "0136cbd2",
   "metadata": {},
   "outputs": [],
   "source": [
    "def find_playback_files(folder):\n",
    "    # Define the pattern to search for in the filenames\n",
    "    playback_pattern = re.compile(r'positions_playback_')\n",
    "\n",
    "    # Initialize an empty list to store the names of matching files\n",
    "    playback_files = []\n",
    "\n",
    "    # Walk through the directory\n",
    "    for root, dirs, files in os.walk(os.path.join(folder, \"positions\")):\n",
    "        for file in files:\n",
    "            if playback_pattern.search(file):\n",
    "                playback_files.append(file)\n",
    "\n",
    "    return playback_files"
   ]
  },
  {
   "cell_type": "code",
   "execution_count": 66,
   "id": "ae7ae111",
   "metadata": {},
   "outputs": [],
   "source": [
    "def find_mock_tones_files(folder):\n",
    "    # Define the pattern to search for in the filenames\n",
    "    mock_pattern = re.compile(r'tones_mock_')\n",
    "\n",
    "    # Initialize an empty list to store the names of matching files\n",
    "    mock_files = []\n",
    "\n",
    "    # Walk through the directory\n",
    "    for root, dirs, files in os.walk(os.path.join(folder, \"tones\")):\n",
    "        for file in files:\n",
    "            if mock_pattern.search(file):\n",
    "                mock_files.append(file)\n",
    "\n",
    "    return mock_files"
   ]
  },
  {
   "cell_type": "code",
   "execution_count": 67,
   "id": "01c82278",
   "metadata": {},
   "outputs": [],
   "source": [
    "\n",
    "# Define the folder path\n",
    "folder = \"/mnt/working2/felicie/Python_theremin/Analyse/Analyse/Experiment/BURRATA/BURRATA_20240430_SESSION_00\"\n",
    "\n",
    "# Find and print the playback files\n",
    "pb_positions = find_playback_files(folder)"
   ]
  },
  {
   "cell_type": "code",
   "execution_count": 68,
   "id": "35a2678e",
   "metadata": {},
   "outputs": [
    {
     "name": "stdout",
     "output_type": "stream",
     "text": [
      "['/mnt/working2/felicie/Python_theremin/Analyse/Analyse/Experiment/BURRATA/BURRATA_20240430_SESSION_00/tones/tones_playback_04_BURRATA_SESSION_00_20240430.bin', '/mnt/working2/felicie/Python_theremin/Analyse/Analyse/Experiment/BURRATA/BURRATA_20240430_SESSION_00/tones/tones_tracking_01_BURRATA_SESSION_00_20240430.bin', '/mnt/working2/felicie/Python_theremin/Analyse/Analyse/Experiment/BURRATA/BURRATA_20240430_SESSION_00/tones/tones_mock_04_BURRATA_SESSION_00_20240430.bin', '/mnt/working2/felicie/Python_theremin/Analyse/Analyse/Experiment/BURRATA/BURRATA_20240430_SESSION_00/tones/tones_playback_02_BURRATA_SESSION_00_20240430.bin', '/mnt/working2/felicie/Python_theremin/Analyse/Analyse/Experiment/BURRATA/BURRATA_20240430_SESSION_00/tones/tones_tracking_06_BURRATA_SESSION_00_20240430.bin', '/mnt/working2/felicie/Python_theremin/Analyse/Analyse/Experiment/BURRATA/BURRATA_20240430_SESSION_00/tones/tones_tail_00_BURRATA_SESSION_00_20240430.bin', '/mnt/working2/felicie/Python_theremin/Analyse/Analyse/Experiment/BURRATA/BURRATA_20240430_SESSION_00/tones/tones_playback_01_BURRATA_SESSION_00_20240430.bin', '/mnt/working2/felicie/Python_theremin/Analyse/Analyse/Experiment/BURRATA/BURRATA_20240430_SESSION_00/tones/tones_mock_02_BURRATA_SESSION_00_20240430.bin', '/mnt/working2/felicie/Python_theremin/Analyse/Analyse/Experiment/BURRATA/BURRATA_20240430_SESSION_00/tones/tones_playback_05_BURRATA_SESSION_00_20240430.bin', '/mnt/working2/felicie/Python_theremin/Analyse/Analyse/Experiment/BURRATA/BURRATA_20240430_SESSION_00/tones/tones_tracking_05_BURRATA_SESSION_00_20240430.bin', '/mnt/working2/felicie/Python_theremin/Analyse/Analyse/Experiment/BURRATA/BURRATA_20240430_SESSION_00/tones/tones_mock_05_BURRATA_SESSION_00_20240430.bin', '/mnt/working2/felicie/Python_theremin/Analyse/Analyse/Experiment/BURRATA/BURRATA_20240430_SESSION_00/tones/tones_tracking_04_BURRATA_SESSION_00_20240430.bin', '/mnt/working2/felicie/Python_theremin/Analyse/Analyse/Experiment/BURRATA/BURRATA_20240430_SESSION_00/tones/tones_tracking_03_BURRATA_SESSION_00_20240430.bin', '/mnt/working2/felicie/Python_theremin/Analyse/Analyse/Experiment/BURRATA/BURRATA_20240430_SESSION_00/tones/tones_mock_01_BURRATA_SESSION_00_20240430.bin', '/mnt/working2/felicie/Python_theremin/Analyse/Analyse/Experiment/BURRATA/BURRATA_20240430_SESSION_00/tones/tones_mock_03_BURRATA_SESSION_00_20240430.bin', '/mnt/working2/felicie/Python_theremin/Analyse/Analyse/Experiment/BURRATA/BURRATA_20240430_SESSION_00/tones/tones_tracking_02_BURRATA_SESSION_00_20240430.bin', '/mnt/working2/felicie/Python_theremin/Analyse/Analyse/Experiment/BURRATA/BURRATA_20240430_SESSION_00/tones/tones_playback_03_BURRATA_SESSION_00_20240430.bin']\n"
     ]
    }
   ],
   "source": [
    "pb_tones = load_playback_tones_files(folder)"
   ]
  },
  {
   "cell_type": "code",
   "execution_count": 82,
   "id": "61d81ee7",
   "metadata": {},
   "outputs": [],
   "source": [
    "def load_bin_data(file_path, dtype=np.float32):\n",
    "    # Load binary data from the file\n",
    "    return np.fromfile(file_path, dtype=dtype)\n",
    "\n",
    "def create_large_matrix(path):\n",
    "    # Find playback files\n",
    "    playback_files = find_playback_files(path)\n",
    "    print(playback_files)\n",
    "    \n",
    "    # Initialize an empty list to collect data arrays\n",
    "    data_list = []\n",
    "\n",
    "    # Load data from each file and append it to the list\n",
    "    for file in playback_files:\n",
    "        data = load_bin_data(path+'/positions/'+file)\n",
    "        data_list.append(data)\n",
    "\n",
    "    return data_list"
   ]
  },
  {
   "cell_type": "code",
   "execution_count": 70,
   "id": "c82ff77f",
   "metadata": {},
   "outputs": [],
   "source": [
    "test_mock = load_bin_data(\"/mnt/working2/felicie/Python_theremin/Analyse/Analyse/Experiment/FRINAULT/FRINAULT_20230223/positions/positions_Playback_tracking_07_FRINAULT_20230223_SESSION_00.bin\")"
   ]
  },
  {
   "cell_type": "code",
   "execution_count": 71,
   "id": "009cd709",
   "metadata": {},
   "outputs": [
    {
     "name": "stdout",
     "output_type": "stream",
     "text": [
      "30.26804682941605 210.75528903445252\n"
     ]
    }
   ],
   "source": [
    "t = test_mock*10e43\n",
    "print(np.nanmin(t),np.nanmax(t))"
   ]
  },
  {
   "cell_type": "code",
   "execution_count": 84,
   "id": "c3eb8545",
   "metadata": {},
   "outputs": [
    {
     "name": "stdout",
     "output_type": "stream",
     "text": [
      "positions_playback_03_BURRATA_SESSION_00_20240430.bin\n",
      "[1287.  959. 1287. ... 1287.  828. 1287.]\n",
      "[ 959. 1287.  959. ... 1287.  828. 1287.]\n"
     ]
    }
   ],
   "source": [
    "mapping = Mapping(1920, 33, 2000., 7)\n",
    "    # print(np.unique(vec))\n",
    "print(pb_positions[3])\n",
    "vec = load_bin_data(folder+'/positions/'+pb_positions[3], dtype=np.int32)\n",
    "tone_vec = mapping.convert_to_frequency(vec)\n",
    "d = np.diff(tone_vec)\n",
    "idx = np.where(d != 0)[0] + 1\n",
    "switch = tone_vec[idx]\n",
    "print(switch)\n",
    "print(tone_vec)\n"
   ]
  },
  {
   "cell_type": "code",
   "execution_count": 85,
   "id": "fc1642bc",
   "metadata": {},
   "outputs": [
    {
     "data": {
      "text/plain": [
       "(array([  190.,   220.,   255.,   296.,   343.,   397.,   460.,   533.,\n",
       "          617.,   715.,   828.,   959.,  1111.,  1287.,  1490.,  1727.,\n",
       "         2000.,  2317.,  2684.,  3109.,  3601.,  4172.,  4832.,  5598.,\n",
       "         6484.,  7511.,  8701., 10079., 11676., 18149., 21024.]),\n",
       " array([   46,   128,   159,   198,   228,   429,   634,  2201,  8036,\n",
       "         5693,  2497,  2327,  5263, 17106, 20852,  4358,  2295,  1296,\n",
       "          718,   815,   528,   716,   824,   766,   733,  3973,  3081,\n",
       "         2609,    68,    31,  7378]))"
      ]
     },
     "execution_count": 85,
     "metadata": {},
     "output_type": "execute_result"
    }
   ],
   "source": [
    "np.unique(tone_vec, return_counts=True)"
   ]
  },
  {
   "cell_type": "code",
   "execution_count": 74,
   "id": "3728fa6b",
   "metadata": {},
   "outputs": [],
   "source": [
    "mapping = Mapping(1920, 33, 2000., 7)\n",
    "\n",
    "def detect_frequency_switch(vec, mapping):\n",
    "    \"\"\"\n",
    "    Fonction qui a pour objectif de détecter les changements de fréquences.\n",
    "    :param mapping:\n",
    "    :param vec:\n",
    "    :return:\n",
    "    \"\"\"\n",
    "    # Je convertis le vecteur de positions en fréquences.\n",
    "    tone_vec = mapping.convert_to_frequency(vec)\n",
    "    d = np.diff(tone_vec)\n",
    "    # Je repère les moments où les fréquences changent.\n",
    "    idx = np.where(d != 0)[0] + 1\n",
    "    \n",
    "    # Je retourne un array de fréquences.\n",
    "    switch = tone_vec[idx]\n",
    "    return switch, idx"
   ]
  },
  {
   "cell_type": "code",
   "execution_count": 75,
   "id": "f7aebf73",
   "metadata": {},
   "outputs": [],
   "source": [
    "switch, idx = detect_frequency_switch([0,2, 45, 12, 57, 1789, 1919, 1245, 1233, 560, 1290], mapping)"
   ]
  },
  {
   "cell_type": "code",
   "execution_count": 76,
   "id": "f25462ac",
   "metadata": {},
   "outputs": [
    {
     "name": "stdout",
     "output_type": "stream",
     "text": [
      "[  220.   190.   220. 15667. 21024.  4172.   715.  4832.]\n",
      "[ 2  3  4  5  6  7  9 10]\n"
     ]
    }
   ],
   "source": [
    "print(switch)\n",
    "print(idx)"
   ]
  },
  {
   "cell_type": "code",
   "execution_count": 77,
   "id": "752fa811",
   "metadata": {},
   "outputs": [
    {
     "name": "stdout",
     "output_type": "stream",
     "text": [
      "0.0 2.322e-42\n"
     ]
    }
   ],
   "source": [
    "print(np.nanmin(vec), np.nanmax(vec))"
   ]
  },
  {
   "cell_type": "code",
   "execution_count": 78,
   "id": "d6c6690c",
   "metadata": {},
   "outputs": [
    {
     "name": "stdout",
     "output_type": "stream",
     "text": [
      "['tones_mock_04_BURRATA_SESSION_00_20240430.bin', 'tones_mock_02_BURRATA_SESSION_00_20240430.bin', 'tones_mock_05_BURRATA_SESSION_00_20240430.bin', 'tones_mock_01_BURRATA_SESSION_00_20240430.bin', 'tones_mock_03_BURRATA_SESSION_00_20240430.bin']\n"
     ]
    }
   ],
   "source": [
    "mck_tones_files = find_mock_tones_files(folder)\n",
    "print(mck_tones_files)\n",
    "tones = load_bin_data(folder+'/tones/'+mck_tones_files[-1], dtype=np.float32)"
   ]
  },
  {
   "cell_type": "code",
   "execution_count": 79,
   "id": "a7049538",
   "metadata": {},
   "outputs": [
    {
     "name": "stdout",
     "output_type": "stream",
     "text": [
      "8\n",
      "2518\n"
     ]
    },
    {
     "data": {
      "image/png": "[encoded data removed]",
      "text/plain": [
       "<Figure size 640x480 with 1 Axes>"
      ]
     },
     "metadata": {},
     "output_type": "display_data"
    },
    {
     "data": {
      "image/png": "[encoded data removed]",
      "text/plain": [
       "<Figure size 640x480 with 1 Axes>"
      ]
     },
     "metadata": {},
     "output_type": "display_data"
    },
    {
     "name": "stdout",
     "output_type": "stream",
     "text": [
      "nombre de switch, 8\n"
     ]
    },
    {
     "data": {
      "image/png": "[encoded data removed]",
      "text/plain": [
       "<Figure size 640x480 with 1 Axes>"
      ]
     },
     "metadata": {},
     "output_type": "display_data"
    }
   ],
   "source": [
    "print(len(switch))\n",
    "print(len(tones))\n",
    "plt.plot(tones)\n",
    "plt.show()\n",
    "plt.plot(vec)\n",
    "plt.show()\n",
    "plt.plot(tone_vec)\n",
    "print( 'nombre de switch,',np.sum(~np.isnan(switch)))"
   ]
  },
  {
   "cell_type": "code",
   "execution_count": 80,
   "id": "1a78d61ca0fc9f18",
   "metadata": {
    "ExecuteTime": {
     "end_time": "2023-08-31T08:44:31.362374Z",
     "start_time": "2023-08-31T08:44:31.340077Z"
    },
    "collapsed": false
   },
   "outputs": [],
   "source": [
    "def frequency_correction(folder):\n",
    "    # C'est tout le pipeline de correction des fréquences.\n",
    "    # 0. Créer le mapping\n",
    "    mapping = Mapping(1920, 33, 2000., 7)\n",
    "    # 1. Charger les \"mock tones\".\n",
    "    #mock_tones = load_mock_tones_files(folder)\n",
    "    pb_tones = load_playback_tones_files(folder)\n",
    "    tr_tones = load_tracking_tones_files(folder)\n",
    "    positions = load_positions_file(folder)\n",
    "    clean_pb_pos = stack_positions_data(positions)\n",
    "    mock_corrected = [detect_frequency_switch(vec, mapping) for vec in clean_pb_pos]\n",
    "    return positions, clean_pb_pos, mock_corrected, pb_tones, tr_tones"
   ]
  },
  {
   "cell_type": "code",
   "execution_count": 81,
   "id": "c2c25da8ea86715f",
   "metadata": {
    "ExecuteTime": {
     "end_time": "2023-08-31T08:49:26.710944Z",
     "start_time": "2023-08-31T08:49:26.527082Z"
    },
    "collapsed": false
   },
   "outputs": [
    {
     "name": "stdout",
     "output_type": "stream",
     "text": [
      "['/mnt/working2/felicie/Python_theremin/Analyse/Analyse/Experiment/BURRATA/BURRATA_20240430_SESSION_00/tones/tones_playback_04_BURRATA_SESSION_00_20240430.bin', '/mnt/working2/felicie/Python_theremin/Analyse/Analyse/Experiment/BURRATA/BURRATA_20240430_SESSION_00/tones/tones_tracking_01_BURRATA_SESSION_00_20240430.bin', '/mnt/working2/felicie/Python_theremin/Analyse/Analyse/Experiment/BURRATA/BURRATA_20240430_SESSION_00/tones/tones_mock_04_BURRATA_SESSION_00_20240430.bin', '/mnt/working2/felicie/Python_theremin/Analyse/Analyse/Experiment/BURRATA/BURRATA_20240430_SESSION_00/tones/tones_playback_02_BURRATA_SESSION_00_20240430.bin', '/mnt/working2/felicie/Python_theremin/Analyse/Analyse/Experiment/BURRATA/BURRATA_20240430_SESSION_00/tones/tones_tracking_06_BURRATA_SESSION_00_20240430.bin', '/mnt/working2/felicie/Python_theremin/Analyse/Analyse/Experiment/BURRATA/BURRATA_20240430_SESSION_00/tones/tones_tail_00_BURRATA_SESSION_00_20240430.bin', '/mnt/working2/felicie/Python_theremin/Analyse/Analyse/Experiment/BURRATA/BURRATA_20240430_SESSION_00/tones/tones_playback_01_BURRATA_SESSION_00_20240430.bin', '/mnt/working2/felicie/Python_theremin/Analyse/Analyse/Experiment/BURRATA/BURRATA_20240430_SESSION_00/tones/tones_mock_02_BURRATA_SESSION_00_20240430.bin', '/mnt/working2/felicie/Python_theremin/Analyse/Analyse/Experiment/BURRATA/BURRATA_20240430_SESSION_00/tones/tones_playback_05_BURRATA_SESSION_00_20240430.bin', '/mnt/working2/felicie/Python_theremin/Analyse/Analyse/Experiment/BURRATA/BURRATA_20240430_SESSION_00/tones/tones_tracking_05_BURRATA_SESSION_00_20240430.bin', '/mnt/working2/felicie/Python_theremin/Analyse/Analyse/Experiment/BURRATA/BURRATA_20240430_SESSION_00/tones/tones_mock_05_BURRATA_SESSION_00_20240430.bin', '/mnt/working2/felicie/Python_theremin/Analyse/Analyse/Experiment/BURRATA/BURRATA_20240430_SESSION_00/tones/tones_tracking_04_BURRATA_SESSION_00_20240430.bin', '/mnt/working2/felicie/Python_theremin/Analyse/Analyse/Experiment/BURRATA/BURRATA_20240430_SESSION_00/tones/tones_tracking_03_BURRATA_SESSION_00_20240430.bin', '/mnt/working2/felicie/Python_theremin/Analyse/Analyse/Experiment/BURRATA/BURRATA_20240430_SESSION_00/tones/tones_mock_01_BURRATA_SESSION_00_20240430.bin', '/mnt/working2/felicie/Python_theremin/Analyse/Analyse/Experiment/BURRATA/BURRATA_20240430_SESSION_00/tones/tones_mock_03_BURRATA_SESSION_00_20240430.bin', '/mnt/working2/felicie/Python_theremin/Analyse/Analyse/Experiment/BURRATA/BURRATA_20240430_SESSION_00/tones/tones_tracking_02_BURRATA_SESSION_00_20240430.bin', '/mnt/working2/felicie/Python_theremin/Analyse/Analyse/Experiment/BURRATA/BURRATA_20240430_SESSION_00/tones/tones_playback_03_BURRATA_SESSION_00_20240430.bin']\n",
      "['/mnt/working2/felicie/Python_theremin/Analyse/Analyse/Experiment/BURRATA/BURRATA_20240430_SESSION_00/tones/tones_playback_04_BURRATA_SESSION_00_20240430.bin', '/mnt/working2/felicie/Python_theremin/Analyse/Analyse/Experiment/BURRATA/BURRATA_20240430_SESSION_00/tones/tones_tracking_01_BURRATA_SESSION_00_20240430.bin', '/mnt/working2/felicie/Python_theremin/Analyse/Analyse/Experiment/BURRATA/BURRATA_20240430_SESSION_00/tones/tones_mock_04_BURRATA_SESSION_00_20240430.bin', '/mnt/working2/felicie/Python_theremin/Analyse/Analyse/Experiment/BURRATA/BURRATA_20240430_SESSION_00/tones/tones_playback_02_BURRATA_SESSION_00_20240430.bin', '/mnt/working2/felicie/Python_theremin/Analyse/Analyse/Experiment/BURRATA/BURRATA_20240430_SESSION_00/tones/tones_tracking_06_BURRATA_SESSION_00_20240430.bin', '/mnt/working2/felicie/Python_theremin/Analyse/Analyse/Experiment/BURRATA/BURRATA_20240430_SESSION_00/tones/tones_tail_00_BURRATA_SESSION_00_20240430.bin', '/mnt/working2/felicie/Python_theremin/Analyse/Analyse/Experiment/BURRATA/BURRATA_20240430_SESSION_00/tones/tones_playback_01_BURRATA_SESSION_00_20240430.bin', '/mnt/working2/felicie/Python_theremin/Analyse/Analyse/Experiment/BURRATA/BURRATA_20240430_SESSION_00/tones/tones_mock_02_BURRATA_SESSION_00_20240430.bin', '/mnt/working2/felicie/Python_theremin/Analyse/Analyse/Experiment/BURRATA/BURRATA_20240430_SESSION_00/tones/tones_playback_05_BURRATA_SESSION_00_20240430.bin', '/mnt/working2/felicie/Python_theremin/Analyse/Analyse/Experiment/BURRATA/BURRATA_20240430_SESSION_00/tones/tones_tracking_05_BURRATA_SESSION_00_20240430.bin', '/mnt/working2/felicie/Python_theremin/Analyse/Analyse/Experiment/BURRATA/BURRATA_20240430_SESSION_00/tones/tones_mock_05_BURRATA_SESSION_00_20240430.bin', '/mnt/working2/felicie/Python_theremin/Analyse/Analyse/Experiment/BURRATA/BURRATA_20240430_SESSION_00/tones/tones_tracking_04_BURRATA_SESSION_00_20240430.bin', '/mnt/working2/felicie/Python_theremin/Analyse/Analyse/Experiment/BURRATA/BURRATA_20240430_SESSION_00/tones/tones_tracking_03_BURRATA_SESSION_00_20240430.bin', '/mnt/working2/felicie/Python_theremin/Analyse/Analyse/Experiment/BURRATA/BURRATA_20240430_SESSION_00/tones/tones_mock_01_BURRATA_SESSION_00_20240430.bin', '/mnt/working2/felicie/Python_theremin/Analyse/Analyse/Experiment/BURRATA/BURRATA_20240430_SESSION_00/tones/tones_mock_03_BURRATA_SESSION_00_20240430.bin', '/mnt/working2/felicie/Python_theremin/Analyse/Analyse/Experiment/BURRATA/BURRATA_20240430_SESSION_00/tones/tones_tracking_02_BURRATA_SESSION_00_20240430.bin', '/mnt/working2/felicie/Python_theremin/Analyse/Analyse/Experiment/BURRATA/BURRATA_20240430_SESSION_00/tones/tones_playback_03_BURRATA_SESSION_00_20240430.bin']\n",
      "['/mnt/working2/felicie/Python_theremin/Analyse/Analyse/Experiment/BURRATA/BURRATA_20240430_SESSION_00/positions/positions_playback_04_BURRATA_SESSION_00_20240430.bin', '/mnt/working2/felicie/Python_theremin/Analyse/Analyse/Experiment/BURRATA/BURRATA_20240430_SESSION_00/positions/positions_playback_05_BURRATA_SESSION_00_20240430.bin', '/mnt/working2/felicie/Python_theremin/Analyse/Analyse/Experiment/BURRATA/BURRATA_20240430_SESSION_00/positions/positions_tracking_02_BURRATA_SESSION_00_20240430.bin', '/mnt/working2/felicie/Python_theremin/Analyse/Analyse/Experiment/BURRATA/BURRATA_20240430_SESSION_00/positions/positions_playback_01_BURRATA_SESSION_00_20240430.bin', '/mnt/working2/felicie/Python_theremin/Analyse/Analyse/Experiment/BURRATA/BURRATA_20240430_SESSION_00/positions/positions_tail_00_BURRATA_SESSION_00_20240430.bin', '/mnt/working2/felicie/Python_theremin/Analyse/Analyse/Experiment/BURRATA/BURRATA_20240430_SESSION_00/positions/positions_tracking_04_BURRATA_SESSION_00_20240430.bin', '/mnt/working2/felicie/Python_theremin/Analyse/Analyse/Experiment/BURRATA/BURRATA_20240430_SESSION_00/positions/positions_tracking_06_BURRATA_SESSION_00_20240430.bin', '/mnt/working2/felicie/Python_theremin/Analyse/Analyse/Experiment/BURRATA/BURRATA_20240430_SESSION_00/positions/positions_tracking_05_BURRATA_SESSION_00_20240430.bin', '/mnt/working2/felicie/Python_theremin/Analyse/Analyse/Experiment/BURRATA/BURRATA_20240430_SESSION_00/positions/positions_playback_03_BURRATA_SESSION_00_20240430.bin', '/mnt/working2/felicie/Python_theremin/Analyse/Analyse/Experiment/BURRATA/BURRATA_20240430_SESSION_00/positions/positions_playback_02_BURRATA_SESSION_00_20240430.bin', '/mnt/working2/felicie/Python_theremin/Analyse/Analyse/Experiment/BURRATA/BURRATA_20240430_SESSION_00/positions/positions_tracking_01_BURRATA_SESSION_00_20240430.bin', '/mnt/working2/felicie/Python_theremin/Analyse/Analyse/Experiment/BURRATA/BURRATA_20240430_SESSION_00/positions/positions_tracking_03_BURRATA_SESSION_00_20240430.bin']\n",
      "[[], ['/mnt/working2/felicie/Python_theremin/Analyse/Analyse/Experiment/BURRATA/BURRATA_20240430_SESSION_00/positions/positions_tail_00_BURRATA_SESSION_00_20240430.bin'], ['/mnt/working2/felicie/Python_theremin/Analyse/Analyse/Experiment/BURRATA/BURRATA_20240430_SESSION_00/positions/positions_tracking_02_BURRATA_SESSION_00_20240430.bin', '/mnt/working2/felicie/Python_theremin/Analyse/Analyse/Experiment/BURRATA/BURRATA_20240430_SESSION_00/positions/positions_tracking_04_BURRATA_SESSION_00_20240430.bin', '/mnt/working2/felicie/Python_theremin/Analyse/Analyse/Experiment/BURRATA/BURRATA_20240430_SESSION_00/positions/positions_tracking_06_BURRATA_SESSION_00_20240430.bin', '/mnt/working2/felicie/Python_theremin/Analyse/Analyse/Experiment/BURRATA/BURRATA_20240430_SESSION_00/positions/positions_tracking_05_BURRATA_SESSION_00_20240430.bin', '/mnt/working2/felicie/Python_theremin/Analyse/Analyse/Experiment/BURRATA/BURRATA_20240430_SESSION_00/positions/positions_tracking_01_BURRATA_SESSION_00_20240430.bin', '/mnt/working2/felicie/Python_theremin/Analyse/Analyse/Experiment/BURRATA/BURRATA_20240430_SESSION_00/positions/positions_tracking_03_BURRATA_SESSION_00_20240430.bin'], ['/mnt/working2/felicie/Python_theremin/Analyse/Analyse/Experiment/BURRATA/BURRATA_20240430_SESSION_00/positions/positions_playback_04_BURRATA_SESSION_00_20240430.bin', '/mnt/working2/felicie/Python_theremin/Analyse/Analyse/Experiment/BURRATA/BURRATA_20240430_SESSION_00/positions/positions_playback_05_BURRATA_SESSION_00_20240430.bin', '/mnt/working2/felicie/Python_theremin/Analyse/Analyse/Experiment/BURRATA/BURRATA_20240430_SESSION_00/positions/positions_playback_01_BURRATA_SESSION_00_20240430.bin', '/mnt/working2/felicie/Python_theremin/Analyse/Analyse/Experiment/BURRATA/BURRATA_20240430_SESSION_00/positions/positions_playback_03_BURRATA_SESSION_00_20240430.bin', '/mnt/working2/felicie/Python_theremin/Analyse/Analyse/Experiment/BURRATA/BURRATA_20240430_SESSION_00/positions/positions_playback_02_BURRATA_SESSION_00_20240430.bin']]\n",
      "<re.Match object; span=(111, 132), match='positions_playback_04'>\n",
      "yes\n",
      "11\n",
      "<re.Match object; span=(111, 132), match='positions_playback_05'>\n",
      "yes\n",
      "13\n"
     ]
    },
    {
     "ename": "IndexError",
     "evalue": "list assignment index out of range",
     "output_type": "error",
     "traceback": [
      "\u001b[0;31m---------------------------------------------------------------------------\u001b[0m",
      "\u001b[0;31mIndexError\u001b[0m                                Traceback (most recent call last)",
      "Cell \u001b[0;32mIn[81], line 1\u001b[0m\n\u001b[0;32m----> 1\u001b[0m a, b, c, e, g \u001b[38;5;241m=\u001b[39m \u001b[43mfrequency_correction\u001b[49m\u001b[43m(\u001b[49m\u001b[38;5;124;43m\"\u001b[39;49m\u001b[38;5;124;43m/mnt/working2/felicie/Python_theremin/Analyse/Analyse/Experiment/BURRATA/BURRATA_20240430_SESSION_00/\u001b[39;49m\u001b[38;5;124;43m\"\u001b[39;49m\u001b[43m)\u001b[49m\n",
      "Cell \u001b[0;32mIn[80], line 9\u001b[0m, in \u001b[0;36mfrequency_correction\u001b[0;34m(folder)\u001b[0m\n\u001b[1;32m      7\u001b[0m pb_tones \u001b[38;5;241m=\u001b[39m load_playback_tones_files(folder)\n\u001b[1;32m      8\u001b[0m tr_tones \u001b[38;5;241m=\u001b[39m load_tracking_tones_files(folder)\n\u001b[0;32m----> 9\u001b[0m positions \u001b[38;5;241m=\u001b[39m \u001b[43mload_positions_file\u001b[49m\u001b[43m(\u001b[49m\u001b[43mfolder\u001b[49m\u001b[43m)\u001b[49m\n\u001b[1;32m     10\u001b[0m clean_pb_pos \u001b[38;5;241m=\u001b[39m stack_positions_data(positions)\n\u001b[1;32m     11\u001b[0m mock_corrected \u001b[38;5;241m=\u001b[39m [detect_frequency_switch(vec, mapping) \u001b[38;5;28;01mfor\u001b[39;00m vec \u001b[38;5;129;01min\u001b[39;00m clean_pb_pos]\n",
      "Cell \u001b[0;32mIn[64], line 65\u001b[0m, in \u001b[0;36mload_positions_file\u001b[0;34m(folder)\u001b[0m\n\u001b[1;32m     63\u001b[0m         value \u001b[38;5;241m=\u001b[39m \u001b[38;5;28mint\u001b[39m(match\u001b[38;5;241m.\u001b[39mgroup(\u001b[38;5;241m1\u001b[39m))\n\u001b[1;32m     64\u001b[0m         \u001b[38;5;28mprint\u001b[39m(idx \u001b[38;5;241m+\u001b[39m value \u001b[38;5;241m*\u001b[39m \u001b[38;5;241m2\u001b[39m \u001b[38;5;241m+\u001b[39m \u001b[38;5;241m1\u001b[39m)\n\u001b[0;32m---> 65\u001b[0m         \u001b[43mout\u001b[49m\u001b[43m[\u001b[49m\u001b[43midx\u001b[49m\u001b[43m \u001b[49m\u001b[38;5;241;43m+\u001b[39;49m\u001b[43m \u001b[49m\u001b[43mvalue\u001b[49m\u001b[43m \u001b[49m\u001b[38;5;241;43m*\u001b[39;49m\u001b[43m \u001b[49m\u001b[38;5;241;43m2\u001b[39;49m\u001b[43m \u001b[49m\u001b[38;5;241;43m+\u001b[39;49m\u001b[43m \u001b[49m\u001b[38;5;241;43m1\u001b[39;49m\u001b[43m]\u001b[49m \u001b[38;5;241m=\u001b[39m file_name\n\u001b[1;32m     66\u001b[0m \u001b[38;5;28;01mreturn\u001b[39;00m out, types_pos_list\n",
      "\u001b[0;31mIndexError\u001b[0m: list assignment index out of range"
     ]
    }
   ],
   "source": [
    "a, b, c, e, g = frequency_correction(\"/mnt/working2/felicie/Python_theremin/Analyse/Analyse/Experiment/BURRATA/BURRATA_20240430_SESSION_00/\")"
   ]
  },
  {
   "cell_type": "code",
   "execution_count": null,
   "id": "e585709db9722a46",
   "metadata": {
    "collapsed": false
   },
   "outputs": [],
   "source": [
    "for elt in range(len(a)):\n",
    "    print(len(a[elt]), len(e[elt]))\n",
    "    \n",
    "# plt.plot(a[0])\n",
    "tt = np.arange(len(g[0]) + len(e[0]) + len(g[1]) + len(e[1]))\n",
    "\n",
    "plt.plot(tt[:len(g[0])], g[0])\n",
    "_sum = len(g[0]) + len(e[0])\n",
    "plt.plot(tt[len(g[0]): _sum], e[0])\n",
    "\n",
    "plt.plot(tt[_sum:_sum + len(g[1])], g[1])\n",
    "_sum += len(g[1])\n",
    "plt.plot(tt[_sum:], e[1])"
   ]
  },
  {
   "cell_type": "code",
   "execution_count": null,
   "id": "7409c8b373ce44a1",
   "metadata": {
    "ExecuteTime": {
     "end_time": "2023-08-31T08:56:22.432439Z",
     "start_time": "2023-08-31T08:56:19.972004Z"
    },
    "collapsed": false
   },
   "outputs": [],
   "source": [
    "for l in range(len(a)):\n",
    "    plt.plot(a[l] + 10000)\n",
    "    plt.plot(e[l])\n",
    "    plt.plot(g[l])\n",
    "    plt.show()"
   ]
  },
  {
   "cell_type": "code",
   "execution_count": null,
   "id": "1c6c8ca7f7a3a297",
   "metadata": {
    "ExecuteTime": {
     "end_time": "2023-08-31T09:32:02.593095Z",
     "start_time": "2023-08-31T09:32:02.072991Z"
    },
    "collapsed": false
   },
   "outputs": [],
   "source": [
    "mck_total = np.hstack(a)\n",
    "pb_total = np.hstack(g)\n",
    "m = Mapping(1920, 33, 2000., 7)\n",
    "un, counts = np.unique(mck_total, return_counts=True)\n",
    "un_pb, counts_pb = np.unique(pb_total, return_counts=True)\n",
    "\n",
    "fig, ax = plt.subplots(2, 1)\n",
    "# h, _ = np.histogram(mck_total, m._lut_tones)\n",
    "ax[0].bar(np.log2(un), counts)\n",
    "ax[1].bar(np.log2(un_pb), counts_pb)\n",
    "# plt.xticks()"
   ]
  },
  {
   "cell_type": "code",
   "execution_count": null,
   "id": "189a8c984834c5e",
   "metadata": {
    "ExecuteTime": {
     "start_time": "2023-08-31T08:43:12.774578Z"
    },
    "collapsed": false
   },
   "outputs": [],
   "source": [
    "def frequency_correction_2(folder):\n",
    "    # C'est tout le pipeline de correction des fréquences.\n",
    "    # 0. Créer le mapping\n",
    "    mapping = Mapping(1920, 33, 2000., 7)\n",
    "    # 1. Charger les \"mock tones\".\n",
    "    mock_tones = load_mock_tones_files(folder)\n",
    "    pb_tones = load_playback_tones_files(folder)\n",
    "    tr_tones = load_tracking_tones_files(folder)\n",
    "    positions = load_positions_file(folder)\n",
    "    clean_pb_pos = stack_positions_data(positions)\n",
    "    clean_tr_pos = stack_positions_data_tracking(positions)\n",
    "    mock_corrected = [detect_frequency_switch(vec, mapping) for vec in clean_pb_pos]\n",
    "    tr_test = [detect_frequency_switch(vec, mapping) for vec in clean_tr_pos]\n",
    "    return clean_pb_pos, clean_tr_pos, mock_corrected, tr_test, pb_tones, tr_tones, positions"
   ]
  },
  {
   "cell_type": "code",
   "execution_count": null,
   "id": "6d23bd73",
   "metadata": {},
   "outputs": [],
   "source": [
    "p_tr = '/mnt/working2/felicie/Python_theremin/Analyse/Analyse/Experiment/BURRATA/BURRATA_20240430_SESSION_00/positions/positions_tracking_03_BURRATA_SESSION_00_20240430.bin'\n",
    "p_pb= '/mnt/working2/felicie/Python_theremin/Analyse/Analyse/Experiment/BURRATA/BURRATA_20240430_SESSION_00/positions/positions_playback_03_BURRATA_SESSION_00_20240430.bin'\n",
    "def frequency_correction_block(folder):\n",
    "    # C'est tout le pipeline de correction des fréquences.\n",
    "    # 0. Créer le mapping\n",
    "    mapping = Mapping(1920, 33, 2000., 7)\n",
    "    # 1. Charger les \"mock tones\".\n",
    "    pb_tones = load_playback_tones_files(folder)\n",
    "    tr_tones = load_tracking_tones_files(folder)\n",
    "    positions = load_positions_file(folder)\n",
    "    clean_pb_pos = np.load()\n",
    "    clean_tr_pos = stack_positions_data_tracking(positions)\n",
    "    mock_corrected = [detect_frequency_switch(vec, mapping) for vec in clean_pb_pos]\n",
    "    tr_test = [detect_frequency_switch(vec, mapping) for vec in clean_tr_pos]\n",
    "    return clean_pb_pos, clean_tr_pos, mock_corrected, tr_test, pb_tones, tr_tones, positions"
   ]
  },
  {
   "cell_type": "code",
   "execution_count": null,
   "id": "92e1565a9c62b68a",
   "metadata": {
    "ExecuteTime": {
     "start_time": "2023-08-31T08:43:13.006368Z"
    },
    "collapsed": false
   },
   "outputs": [],
   "source": [
    "folder = '/mnt/working2/felicie/Python_theremin/Analyse/Analyse/Experiment/BURRATA/BURRATA_20240430_SESSION_00'\n",
    "frequency_correction_block(folder)"
   ]
  },
  {
   "cell_type": "code",
   "execution_count": null,
   "id": "703472f469e34f9e",
   "metadata": {
    "ExecuteTime": {
     "end_time": "2023-08-31T08:39:52.545775Z",
     "start_time": "2023-08-31T08:39:52.245177Z"
    },
    "collapsed": false
   },
   "outputs": [],
   "source": [
    "\n"
   ]
  },
  {
   "cell_type": "code",
   "execution_count": null,
   "id": "f2e199537ef10289",
   "metadata": {
    "collapsed": false
   },
   "outputs": [],
   "source": []
  },
  {
   "cell_type": "code",
   "execution_count": null,
   "id": "e8da13ea0b95096a",
   "metadata": {
    "collapsed": false
   },
   "outputs": [],
   "source": []
  },
  {
   "cell_type": "code",
   "execution_count": null,
   "id": "6e3eddcbd90457c5",
   "metadata": {
    "ExecuteTime": {
     "end_time": "2023-08-30T15:42:12.722685Z",
     "start_time": "2023-08-30T15:42:12.695578Z"
    },
    "collapsed": false
   },
   "outputs": [],
   "source": [
    "a = load_tracking_tones_files(\"/Users/flavienferal/data/EXPERIMENT/MUROLS/MUROLS_20230218/MUROLS_20230218_SESSION_01\")\n",
    "b = load_playback_tones_files(\"/Users/flavienferal/data/EXPERIMENT/MUROLS/MUROLS_20230218/MUROLS_20230218_SESSION_01\")"
   ]
  },
  {
   "cell_type": "code",
   "execution_count": null,
   "id": "84166f483dfcabe1",
   "metadata": {
    "ExecuteTime": {
     "end_time": "2023-08-30T15:45:10.582489Z",
     "start_time": "2023-08-30T15:45:10.302020Z"
    },
    "collapsed": false
   },
   "outputs": [],
   "source": [
    "plt.plot(g[0])\n",
    "plt.plot(h[0])"
   ]
  },
  {
   "cell_type": "code",
   "execution_count": null,
   "id": "307ab07e4d3f7ffd",
   "metadata": {
    "ExecuteTime": {
     "end_time": "2023-08-30T15:42:19.519251Z",
     "start_time": "2023-08-30T15:42:19.492788Z"
    },
    "collapsed": false
   },
   "outputs": [],
   "source": [
    "len(b)"
   ]
  },
  {
   "cell_type": "code",
   "execution_count": null,
   "id": "cfc207289ad6bdf4",
   "metadata": {
    "ExecuteTime": {
     "end_time": "2023-08-31T08:39:27.536874Z",
     "start_time": "2023-08-31T08:39:27.116812Z"
    },
    "collapsed": false
   },
   "outputs": [],
   "source": [
    "a, b, c, e, g, h, q = frequency_correction_2(\"/Users/flavienferal/data/EXPERIMENT/MUROLS/MUROLS_20230218/MUROLS_20230218_SESSION_01\")"
   ]
  },
  {
   "cell_type": "code",
   "execution_count": null,
   "id": "d8a2acc0a16cdcaf",
   "metadata": {
    "ExecuteTime": {
     "end_time": "2023-08-31T08:39:28.522845Z",
     "start_time": "2023-08-31T08:39:28.272660Z"
    },
    "collapsed": false
   },
   "outputs": [],
   "source": [
    "plt.plot(h[0])\n",
    "# plt.plot(g[0])\n",
    "plt.plot(e[0])"
   ]
  },
  {
   "cell_type": "code",
   "execution_count": null,
   "id": "dba1ecb8ef08ace8",
   "metadata": {
    "ExecuteTime": {
     "start_time": "2023-08-30T19:36:56.655311Z"
    },
    "collapsed": false
   },
   "outputs": [],
   "source": [
    "tt = np.arange(len(b[0]) + len(a[0]) + len(b[1]) + len(a[1]))\n",
    "plt.plot(tt[:len(b[0])], b[0])\n",
    "_sum = len(b[0]) + len(a[0])\n",
    "plt.plot(tt[len(b[0]): _sum], a[0])\n",
    "\n",
    "plt.plot(tt[_sum:_sum + len(b[0])], b[1])\n",
    "_sum += len(b[1])\n",
    "plt.plot(tt[_sum:], a[1])\n",
    "\n"
   ]
  },
  {
   "cell_type": "code",
   "execution_count": null,
   "id": "2acaf4081835189e",
   "metadata": {
    "ExecuteTime": {
     "end_time": "2023-08-30T19:39:52.016329Z",
     "start_time": "2023-08-30T19:39:51.679330Z"
    },
    "collapsed": false
   },
   "outputs": [],
   "source": [
    "rr = np.fromfile(q[2], dtype=np.int32)\n",
    "plt.plot(rr)\n",
    "plt.plot(b[0])"
   ]
  },
  {
   "cell_type": "code",
   "execution_count": null,
   "id": "3e793d7895a713db",
   "metadata": {
    "ExecuteTime": {
     "end_time": "2023-08-31T08:32:10.304Z",
     "start_time": "2023-08-31T08:32:10.290728Z"
    },
    "collapsed": false
   },
   "outputs": [],
   "source": [
    "m = Mapping(1920, 33, 2000., 7)\n",
    "tv = m.convert_to_frequency(b[0].astype(int))"
   ]
  },
  {
   "cell_type": "code",
   "execution_count": null,
   "id": "31b25c71a50585d0",
   "metadata": {
    "ExecuteTime": {
     "end_time": "2023-08-31T08:32:11.553095Z",
     "start_time": "2023-08-31T08:32:11.240288Z"
    },
    "collapsed": false
   },
   "outputs": [],
   "source": [
    "plt.plot(tv)\n",
    "diff = np.diff(tv)\n",
    "_i = np.where(diff != 0)[0] + 1\n",
    "print(len(_i))\n",
    "print(len(e[0]))\n",
    "print(len(h[0]))\n",
    "plt.scatter(_i, tv[_i], c=\"r\")"
   ]
  },
  {
   "cell_type": "code",
   "execution_count": null,
   "id": "865fbcf327f74298",
   "metadata": {
    "ExecuteTime": {
     "end_time": "2023-08-31T08:51:24.907161Z",
     "start_time": "2023-08-31T08:51:24.549933Z"
    },
    "collapsed": false
   },
   "outputs": [],
   "source": [
    "rr = np.fromfile(q[2], dtype=np.int32)\n",
    "rr = rr.astype(float)\n",
    "rr[np.equal(rr, -1)] = np.nan\n",
    "# rr[rr == -1] = np.nan\n",
    "\n",
    "tv = m.convert_to_frequency(rr)\n",
    "plt.plot(tv)"
   ]
  },
  {
   "cell_type": "code",
   "execution_count": null,
   "id": "b26f391e9175e562",
   "metadata": {
    "ExecuteTime": {
     "end_time": "2023-08-31T08:24:40.308185Z",
     "start_time": "2023-08-31T08:24:40.264616Z"
    },
    "collapsed": false
   },
   "outputs": [],
   "source": [
    "def find_frequency_changes_with_nan(arr):\n",
    "    _diff = np.diff(arr)\n",
    "    condition = (~np.isnan(_diff)) & (_diff != 0)\n",
    "    indices = np.where(condition)[0] + 1\n",
    "    return arr[indices]"
   ]
  },
  {
   "cell_type": "code",
   "execution_count": null,
   "id": "5db0b4dc4970360a",
   "metadata": {
    "ExecuteTime": {
     "end_time": "2023-08-31T08:24:41.083761Z",
     "start_time": "2023-08-31T08:24:41.066795Z"
    },
    "collapsed": false
   },
   "outputs": [],
   "source": [
    "rr_switch = find_frequency_changes_with_nan(tv)"
   ]
  },
  {
   "cell_type": "code",
   "execution_count": null,
   "id": "784e774f95875302",
   "metadata": {
    "ExecuteTime": {
     "end_time": "2023-08-31T08:20:33.227919Z",
     "start_time": "2023-08-31T08:20:33.188211Z"
    },
    "collapsed": false
   },
   "outputs": [],
   "source": [
    "np.diff(tv)"
   ]
  },
  {
   "cell_type": "code",
   "execution_count": null,
   "id": "826e366e9012f6d6",
   "metadata": {
    "ExecuteTime": {
     "end_time": "2023-08-31T08:24:43.788809Z",
     "start_time": "2023-08-31T08:24:43.778048Z"
    },
    "collapsed": false
   },
   "outputs": [],
   "source": [
    "rr_switch\n"
   ]
  },
  {
   "cell_type": "code",
   "execution_count": null,
   "id": "f325121012f1000c",
   "metadata": {
    "ExecuteTime": {
     "end_time": "2023-08-31T08:26:11.829675Z",
     "start_time": "2023-08-31T08:26:11.563154Z"
    },
    "collapsed": false
   },
   "outputs": [],
   "source": [
    "plt.plot(rr_switch)\n",
    "plt.plot(h[0])"
   ]
  },
  {
   "cell_type": "code",
   "execution_count": null,
   "id": "bab791d4ebb4edf6",
   "metadata": {
    "ExecuteTime": {
     "end_time": "2023-08-31T08:25:20.132763Z",
     "start_time": "2023-08-31T08:25:20.080070Z"
    },
    "collapsed": false
   },
   "outputs": [],
   "source": [
    "len(rr_switch)\n"
   ]
  },
  {
   "cell_type": "code",
   "execution_count": null,
   "id": "acc80041d633f8c6",
   "metadata": {
    "ExecuteTime": {
     "end_time": "2023-08-31T08:25:35.031888Z",
     "start_time": "2023-08-31T08:25:34.971187Z"
    },
    "collapsed": false
   },
   "outputs": [],
   "source": [
    "len(b[0])"
   ]
  },
  {
   "cell_type": "code",
   "execution_count": null,
   "id": "8b299f9558169cac",
   "metadata": {
    "ExecuteTime": {
     "end_time": "2023-08-31T08:25:52.938216Z",
     "start_time": "2023-08-31T08:25:52.899865Z"
    },
    "collapsed": false
   },
   "outputs": [],
   "source": [
    "len(h[0])"
   ]
  },
  {
   "cell_type": "code",
   "execution_count": null,
   "id": "e8214a7e24ed68f",
   "metadata": {
    "ExecuteTime": {
     "end_time": "2023-08-31T08:36:36.715155Z",
     "start_time": "2023-08-31T08:36:36.643794Z"
    },
    "collapsed": false
   },
   "outputs": [],
   "source": [
    "current_frequency = 533.0\n",
    "sw = list()\n",
    "for elt in rr:\n",
    "    f = m.convert_position(elt)\n",
    "    if f != current_frequency and f != -1:\n",
    "        current_frequency = f\n",
    "        sw.append(current_frequency)"
   ]
  },
  {
   "cell_type": "code",
   "execution_count": null,
   "id": "19ec5cafc2b6ac78",
   "metadata": {
    "ExecuteTime": {
     "end_time": "2023-08-31T08:36:37.554889Z",
     "start_time": "2023-08-31T08:36:37.537762Z"
    },
    "collapsed": false
   },
   "outputs": [],
   "source": [
    "len(sw)"
   ]
  },
  {
   "cell_type": "code",
   "execution_count": null,
   "id": "d45ad8bb259d5004",
   "metadata": {
    "ExecuteTime": {
     "end_time": "2023-08-31T08:36:46.175741Z",
     "start_time": "2023-08-31T08:36:46.157959Z"
    },
    "collapsed": false
   },
   "outputs": [],
   "source": [
    "len(h[0])"
   ]
  },
  {
   "cell_type": "code",
   "execution_count": null,
   "id": "da8271f45b4f242c",
   "metadata": {
    "ExecuteTime": {
     "end_time": "2023-08-31T08:36:47.272153Z",
     "start_time": "2023-08-31T08:36:46.994367Z"
    },
    "collapsed": false
   },
   "outputs": [],
   "source": [
    "plt.plot(sw)\n",
    "plt.plot(h[0])\n"
   ]
  },
  {
   "cell_type": "code",
   "execution_count": null,
   "id": "7df5824f1dad6d79",
   "metadata": {
    "ExecuteTime": {
     "end_time": "2023-08-31T08:36:26.230300Z",
     "start_time": "2023-08-31T08:36:26.184198Z"
    },
    "collapsed": false
   },
   "outputs": [],
   "source": [
    "sw[0]"
   ]
  },
  {
   "cell_type": "code",
   "execution_count": null,
   "id": "bcae03a0914259e7",
   "metadata": {
    "ExecuteTime": {
     "end_time": "2023-08-31T08:51:34.572186Z",
     "start_time": "2023-08-31T08:51:34.285875Z"
    },
    "collapsed": false
   },
   "outputs": [],
   "source": [
    "plt.plot(m._lut_indices)"
   ]
  },
  {
   "cell_type": "code",
   "execution_count": null,
   "id": "696b53c3bb7c11f6",
   "metadata": {
    "ExecuteTime": {
     "end_time": "2023-08-31T08:38:15.387175Z",
     "start_time": "2023-08-31T08:38:15.249869Z"
    },
    "collapsed": false
   },
   "outputs": [],
   "source": [
    "np.unique(m._lut_indices, return_counts=True)"
   ]
  },
  {
   "cell_type": "code",
   "execution_count": null,
   "id": "ac7920c50ad9ebde",
   "metadata": {
    "collapsed": false
   },
   "outputs": [],
   "source": []
  }
 ],
 "metadata": {
  "kernelspec": {
   "display_name": "Python 3",
   "language": "python",
   "name": "python3"
  },
  "language_info": {
   "codemirror_mode": {
    "name": "ipython",
    "version": 3
   },
   "file_extension": ".py",
   "mimetype": "text/x-python",
   "name": "python",
   "nbconvert_exporter": "python",
   "pygments_lexer": "ipython3",
   "version": "3.8.10"
  }
 },
 "nbformat": 4,
 "nbformat_minor": 5
}
