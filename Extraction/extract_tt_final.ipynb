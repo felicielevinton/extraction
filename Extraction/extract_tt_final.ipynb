{
 "cells": [
  {
   "cell_type": "code",
   "execution_count": 4,
   "metadata": {},
   "outputs": [
    {
     "ename": "ModuleNotFoundError",
     "evalue": "No module named 'extraction_utils'",
     "output_type": "error",
     "traceback": [
      "\u001b[0;31m---------------------------------------------------------------------------\u001b[0m",
      "\u001b[0;31mModuleNotFoundError\u001b[0m                       Traceback (most recent call last)",
      "Cell \u001b[0;32mIn[4], line 2\u001b[0m\n\u001b[1;32m      1\u001b[0m \u001b[38;5;66;03m#from sequences import *\u001b[39;00m\n\u001b[0;32m----> 2\u001b[0m \u001b[38;5;28;01mfrom\u001b[39;00m \u001b[38;5;21;01mextraction_utils\u001b[39;00m \u001b[38;5;28;01mimport\u001b[39;00m extract\n\u001b[1;32m      3\u001b[0m \u001b[38;5;28;01mfrom\u001b[39;00m \u001b[38;5;21;01mget_data_v2\u001b[39;00m \u001b[38;5;28;01mimport\u001b[39;00m \u001b[38;5;241m*\u001b[39m\n\u001b[1;32m      4\u001b[0m \u001b[38;5;28;01mimport\u001b[39;00m \u001b[38;5;21;01mre\u001b[39;00m\n",
      "\u001b[0;31mModuleNotFoundError\u001b[0m: No module named 'extraction_utils'"
     ]
    }
   ],
   "source": [
    "#from sequences import *\n",
    "from extraction_utils import extract\n",
    "from get_data_v2 import *\n",
    "import re\n",
    "import numpy as np\n",
    "import os\n",
    "import glob\n",
    "import warnings\n",
    "from copy import deepcopy\n",
    "import json\n",
    "import matplotlib.pyplot as plt"
   ]
  },
  {
   "cell_type": "code",
   "execution_count": 6,
   "metadata": {},
   "outputs": [],
   "source": [
    "\n",
    "def find_json_file(directory_path):\n",
    "    # Use glob to find all JSON files in the directory\n",
    "    json_files = glob.glob(os.path.join(directory_path, \"*.json\"))\n",
    "    \n",
    "    # Check if any JSON files were found\n",
    "    if json_files:\n",
    "        return json_files[0]\n",
    "    else:\n",
    "        return None"
   ]
  },
  {
   "cell_type": "code",
   "execution_count": 7,
   "metadata": {},
   "outputs": [],
   "source": [
    "def check_block_ended_correctly(data):\n",
    "    experiment_results = {}\n",
    "    for block_key, block_data in data.items():\n",
    "        if block_key.startswith(\"Block_\"):\n",
    "            experiment_results[block_key] = block_data.get(\"Experiment ended correctly\", None)\n",
    "    return experiment_results"
   ]
  },
  {
   "cell_type": "code",
   "execution_count": 8,
   "metadata": {},
   "outputs": [
    {
     "ename": "NameError",
     "evalue": "name 'glob' is not defined",
     "output_type": "error",
     "traceback": [
      "\u001b[0;31m---------------------------------------------------------------------------\u001b[0m",
      "\u001b[0;31mNameError\u001b[0m                                 Traceback (most recent call last)",
      "Cell \u001b[0;32mIn[8], line 8\u001b[0m\n\u001b[1;32m      3\u001b[0m \u001b[38;5;66;03m#ANALOG_TRIGGERS_MAPPING = {\"MAIN\": 1, \"PLAYBACK\": 0}\u001b[39;00m\n\u001b[1;32m      4\u001b[0m \n\u001b[1;32m      5\u001b[0m \u001b[38;5;66;03m#hje checke que je suis en v2 dans le json\u001b[39;00m\n\u001b[1;32m      6\u001b[0m path\u001b[38;5;241m=\u001b[39m\u001b[38;5;124m'\u001b[39m\u001b[38;5;124m/mnt/working2/felicie/Python_theremin/Analyse/Analyse/Experiment/BURRATA/BURRATA_20240521_SESSION_02/headstage_0/\u001b[39m\u001b[38;5;124m'\u001b[39m\n\u001b[0;32m----> 8\u001b[0m json_file_path \u001b[38;5;241m=\u001b[39m \u001b[43mfind_json_file\u001b[49m\u001b[43m(\u001b[49m\u001b[43mpath\u001b[49m\u001b[43m)\u001b[49m\n\u001b[1;32m     10\u001b[0m \u001b[38;5;28;01mwith\u001b[39;00m \u001b[38;5;28mopen\u001b[39m(json_file_path, \u001b[38;5;124m'\u001b[39m\u001b[38;5;124mr\u001b[39m\u001b[38;5;124m'\u001b[39m) \u001b[38;5;28;01mas\u001b[39;00m f:\n\u001b[1;32m     11\u001b[0m         json_file \u001b[38;5;241m=\u001b[39m json\u001b[38;5;241m.\u001b[39mload(f)\n",
      "Cell \u001b[0;32mIn[6], line 3\u001b[0m, in \u001b[0;36mfind_json_file\u001b[0;34m(directory_path)\u001b[0m\n\u001b[1;32m      1\u001b[0m \u001b[38;5;28;01mdef\u001b[39;00m \u001b[38;5;21mfind_json_file\u001b[39m(directory_path):\n\u001b[1;32m      2\u001b[0m     \u001b[38;5;66;03m# Use glob to find all JSON files in the directory\u001b[39;00m\n\u001b[0;32m----> 3\u001b[0m     json_files \u001b[38;5;241m=\u001b[39m \u001b[43mglob\u001b[49m\u001b[38;5;241m.\u001b[39mglob(os\u001b[38;5;241m.\u001b[39mpath\u001b[38;5;241m.\u001b[39mjoin(directory_path, \u001b[38;5;124m\"\u001b[39m\u001b[38;5;124m*.json\u001b[39m\u001b[38;5;124m\"\u001b[39m))\n\u001b[1;32m      5\u001b[0m     \u001b[38;5;66;03m# Check if any JSON files were found\u001b[39;00m\n\u001b[1;32m      6\u001b[0m     \u001b[38;5;28;01mif\u001b[39;00m json_files:\n",
      "\u001b[0;31mNameError\u001b[0m: name 'glob' is not defined"
     ]
    }
   ],
   "source": [
    "#analog_in et digital_in\n",
    "ANALOG_TRIGGERS_MAPPING = {\"MAIN\": 1, \"PLAYBACK\": 0, \"MOCK\": 3, \"TARGET\": 2}\n",
    "#ANALOG_TRIGGERS_MAPPING = {\"MAIN\": 1, \"PLAYBACK\": 0}\n",
    "\n",
    "#hje checke que je suis en v2 dans le json\n",
    "path='/mnt/working2/felicie/Python_theremin/Analyse/Analyse/Experiment/BURRATA/BURRATA_20240521_SESSION_02/headstage_0/'\n",
    "\n",
    "json_file_path = find_json_file(path)\n",
    "\n",
    "with open(json_file_path, 'r') as f:\n",
    "        json_file = json.load(f)\n",
    "\n",
    "blocks_ended_correctly = list(check_block_ended_correctly(json_file))\n",
    "\n",
    "dig_trig_mapping = get_digital_mapping(json_file)\n",
    "\n",
    "\n",
    "# for le nombre de blocks\n",
    "n_blocks = get_n_iter(json_file) #ne marche pas encore\n",
    "# pour un block :\n",
    "n_blocks = 3\n",
    "\n",
    "\n",
    "#extraire les canaux analogiques et digitaux avec le bon mapping des canaux digitaux\n",
    "#triggers = extract(path)\n",
    "\n",
    "#extraire positions et tons block par block\n",
    "positions_tr, tones_tr, positions_pb, tones_pb, tones_mck = [], [], [], [], []\n",
    "for block in range(0, n_blocks):\n",
    "    print(block)\n",
    "    if blocks_ended_correctly[block]:\n",
    "        \n",
    "        # extraire les positions et les tons\n",
    "        tones_tr.append(get_tones(path, json_file, ['tracking', 'playback', 'mock'], f\"Block_00{block}\")['tracking'][0])\n",
    "        positions_tr.append(get_positions(path, json_file, ['tracking', 'playback'], f\"Block_00{block}\")['tracking'][0])\n",
    "        #tones = extract_tones_path(json_file, block, condition)\n",
    "\n",
    "\n",
    "        #en playback : convertir les positions en tones pour avoir les MOCK\n",
    "        # mock = get_tones_from_position (nom donné au pif)\n",
    "        tones_pb.append(get_tones(path, json_file, ['tracking', 'playback', 'mock'], f\"Block_00{block}\")['playback'][0])\n",
    "        positions_pb.append(get_positions(path, json_file, ['tracking', 'playback'], f\"Block_00{block}\")['playback'][0])\n",
    "        tones_mck.append(get_tones(path, json_file, ['tracking', 'playback', 'mock'], f\"Block_00{block}\")['mock'][0])\n",
    "    else:\n",
    "        break"
   ]
  },
  {
   "cell_type": "code",
   "execution_count": 8,
   "metadata": {},
   "outputs": [
    {
     "name": "stdout",
     "output_type": "stream",
     "text": [
      "/mnt/working2/felicie/Python_theremin/Analyse/Analyse/Experiment/BURRATA/BURRATA_20240521_SESSION_02/headstage_0/trig_dig_chan_{}.npy\n",
      "[False False False ... False False False]\n"
     ]
    }
   ],
   "source": [
    "# découper les triggers en bloc\n",
    "\n",
    "#extraire les canaux analogiques et digitaux avec le bon mapping des canaux digitaux\n",
    "triggers = extract(path)\n",
    "analog_channels = triggers['ANALOG']\n",
    "digital_channels = triggers['DIGITAL']\n",
    "\n",
    "tr_trigs = analog_channels['MAIN']\n",
    "pb_trigs = analog_channels['PLAYBACK']\n",
    "mck_trigs = analog_channels['MOCK']\n",
    "\n",
    "\n",
    "\n",
    "    \n",
    "    "
   ]
  },
  {
   "cell_type": "code",
   "execution_count": 39,
   "metadata": {},
   "outputs": [],
   "source": [
    "def associate_tones_and_triggersv2(tones, triggers, condition):\n",
    "    \"\"\"\"\"\n",
    "    Dans le cas où on a les mocks triggers\n",
    "    \n",
    "    \"\"\"\n",
    "    # Create an empty dictionary to store associations\n",
    "    tt = {}\n",
    "    if condition == 'tracking':\n",
    "        cond = 'tr'\n",
    "    elif condition == 'playback':\n",
    "        cond = 'pb'\n",
    "    elif condition == 'mock':\n",
    "        cond = 'mk'\n",
    "    # Iterate over each index and subarray of tones\n",
    "    for i, block_tones in enumerate(tones): \n",
    "        # Get the length of the current subarray\n",
    "        subarray_length = len(block_tones)\n",
    "        \n",
    "        # Take the corresponding triggers for the current subarray\n",
    "        subarray_triggers = triggers[:subarray_length]\n",
    "        \n",
    "        # Associate triggers with tones in a dictionary\n",
    "        tt[f\"{cond}_{i}\"] = [block_tones, subarray_triggers]\n",
    "        \n",
    "        # Remove the triggers used for this subarray\n",
    "        triggers = triggers[subarray_length:]\n",
    "    return tt\n"
   ]
  },
  {
   "cell_type": "code",
   "execution_count": 40,
   "metadata": {},
   "outputs": [],
   "source": [
    "def extract_recording_length(path):\n",
    "    file = path+'/recording_length.bin'\n",
    "    with open(file, 'rb') as file:\n",
    "            recording_length = file.read()\n",
    "    recording_length = recording_length.decode('utf-8')\n",
    "\n",
    "        # Extract only the numbers using a simple filter\n",
    "    recording_length = int(''.join(filter(str.isdigit, recording_length)))\n",
    "    return int(recording_length)"
   ]
  },
  {
   "cell_type": "code",
   "execution_count": 13,
   "metadata": {},
   "outputs": [],
   "source": [
    "def create_tt(path, analog_channels, tones_tr, tones_pb):\n",
    "    \"\"\"\"\n",
    "    Fonction ok dans le cas où on a pas de mock triggers \n",
    "    \n",
    "    \"\"\"\n",
    "    n_iter = len(tones_pb)\n",
    "    tr_trigs = analog_channels['MAIN']\n",
    "    pb_trigs = analog_channels['PLAYBACK']\n",
    "    \n",
    "    # Assuming you have functions to create the arrays 'order', 'n_iter', 'recording_length', 'keys', and 'numbers'\n",
    "    # Assuming you have a function to extract recording length from the path\n",
    "    recording_length = extract_recording_length(path)\n",
    "    \n",
    "    # Create the arrays for 'pb_' and 'tr_' using the provided function\n",
    "    tt_tr = associate_tones_and_triggersv2(tones_tr, tr_trigs, 'tracking')\n",
    "    tt_pb = associate_tones_and_triggersv2(tones_pb, pb_trigs, 'playback')\n",
    "    \n",
    "    # Combine 'tt_tr' and 'tt_pb' dictionaries\n",
    "    tt_tr.update(tt_pb)\n",
    "    \n",
    "    # Create the final object\n",
    "    tt_object = {\n",
    "        'n_iter': n_iter,\n",
    "        'recording_length': recording_length,\n",
    "        **tt_tr  # Add the combined triggers and tones dictionaries\n",
    "    }\n",
    "    \n",
    "    return tt_object\n"
   ]
  },
  {
   "cell_type": "code",
   "execution_count": 41,
   "metadata": {},
   "outputs": [],
   "source": [
    "def create_tt(path, analog_channels, tones_tr, tones_pb, tones_mck):\n",
    "    \"\"\"\"\n",
    "    Dans le cas où on a les mock triggers \n",
    "    \n",
    "    \"\"\"\n",
    "    n_iter = len(tones_pb)\n",
    "    tr_trigs = analog_channels['MAIN']\n",
    "    pb_trigs = analog_channels['PLAYBACK']\n",
    "    mck_trigs = analog_channels['MOCK']\n",
    "    \n",
    "    # Assuming you have functions to create the arrays 'order', 'n_iter', 'recording_length', 'keys', and 'numbers'\n",
    "    # Assuming you have a function to extract recording length from the path\n",
    "    recording_length = extract_recording_length(path)\n",
    "    \n",
    "    # Create the arrays for 'pb_' and 'tr_' using the provided function\n",
    "    tt_tr = associate_tones_and_triggersv2(tones_tr, tr_trigs, 'tracking')\n",
    "    tt_pb = associate_tones_and_triggersv2(tones_pb, pb_trigs, 'playback')\n",
    "    tt_mck = associate_tones_and_triggersv2(tones_mck, mck_trigs, 'mock')\n",
    "    \n",
    "    # Combine 'tt_tr' and 'tt_pb' dictionaries\n",
    "    tt_tr.update(tt_pb)\n",
    "    tt_tr.update(tt_mck)\n",
    "    \n",
    "    # Create the final object\n",
    "    tt_object = {\n",
    "        'n_iter': n_iter,\n",
    "        'recording_length': recording_length,\n",
    "        **tt_tr  # Add the combined triggers and tones dictionaries\n",
    "    }\n",
    "    \n",
    "    return tt_object"
   ]
  },
  {
   "cell_type": "code",
   "execution_count": 42,
   "metadata": {},
   "outputs": [],
   "source": [
    "tt = create_tt(path, analog_channels, tones_tr, tones_pb, tones_mck)\n"
   ]
  },
  {
   "cell_type": "code",
   "execution_count": 43,
   "metadata": {},
   "outputs": [
    {
     "name": "stdout",
     "output_type": "stream",
     "text": [
      "n_iter\n",
      "recording_length\n",
      "tr_0\n",
      "tr_1\n",
      "tr_2\n",
      "pb_0\n",
      "pb_1\n",
      "pb_2\n",
      "mk_0\n",
      "mk_1\n",
      "mk_2\n"
     ]
    }
   ],
   "source": [
    "for key, value in tt.items():\n",
    "    print(key)"
   ]
  },
  {
   "cell_type": "code",
   "execution_count": 38,
   "metadata": {},
   "outputs": [
    {
     "name": "stdout",
     "output_type": "stream",
     "text": [
      "[array([ 533.,  460.,  533.,  617.,  533.,  617.,  533.,  617.,  533.,\n",
      "        617.,  533.,  617.,  533.,  617.,  715.,  617.,  715.,  617.,\n",
      "        715.,  828.,  959.,  828.,  959.,  828.,  959.,  828.,  715.,\n",
      "        617.,  533.,  460.,  397.,  460.,  533.,  460.,  533.,  460.,\n",
      "        533.,  460.,  533.,  617.,  715.,  828.,  959., 1111., 1287.,\n",
      "       1490., 1727., 1490., 1287., 1111., 1287., 1490., 1727., 2000.,\n",
      "       2317., 2684., 3109., 3601., 4172., 2684., 3601., 2684., 3109.,\n",
      "       5598., 4172., 1111.,  959., 1111., 1287., 1490., 1287., 1111.,\n",
      "        959.,  828.,  715.,  828.,  715.,  828.,  959., 1111., 1287.,\n",
      "       1490., 1727., 2000., 2317.,  959., 2000., 1111., 1287., 1111.,\n",
      "        959., 1111.,  715.,  617.,  533.,  715.,  828.,  715.,  828.,\n",
      "        715.,  828.,  959.,  828.,  959.,  828.,  959.,  828.,  959.,\n",
      "        828.,  959.,  828.,  959.,  828.,  959.,  828.,  959.,  828.,\n",
      "        959., 1111., 1287., 1490., 1287., 1111.,  959.,  828.,  715.,\n",
      "        617.,  715.,  828.,  959., 1111., 1287., 1490., 1727., 2000.,\n",
      "       1727., 1490., 1287., 1111.,  959.,  828.,  959., 1111., 1727.,\n",
      "       2000., 2317., 2684., 3109., 3601., 3109., 3601., 3109., 3601.,\n",
      "       4172., 4832., 5598., 4832., 4172., 4832., 4172., 4832., 4172.,\n",
      "       4832., 4172., 4832., 4172., 4832., 4172., 4832., 4172., 4832.,\n",
      "       4172., 4832., 4172., 4832., 4172., 4832., 4172., 4832., 4172.,\n",
      "       4832., 4172., 4832., 4172., 4832., 4172., 4832., 4172., 4832.,\n",
      "       4172., 4832., 4172., 4832., 4172., 4832., 4172., 4832., 4172.,\n",
      "       4832., 4172., 4832., 4172., 4832., 4172., 4832., 4172., 4832.,\n",
      "       4172., 4832., 4172., 4832., 4172., 4832., 4172., 4832., 4172.,\n",
      "       4832., 4172., 4832., 4172., 4832., 4172., 4832., 4172., 4832.,\n",
      "       4172., 4832., 4172., 4832., 4172., 4832., 4172., 4832., 5598.,\n",
      "       4832., 5598., 4832., 5598., 4832., 5598., 4832., 5598., 4832.,\n",
      "       5598., 4832., 5598., 4832., 5598., 4832., 5598., 4832., 5598.,\n",
      "       4832., 5598., 4832., 5598., 4832., 5598., 4832., 5598., 4832.,\n",
      "       5598., 4832., 5598., 4832., 5598., 4832., 5598., 4832., 5598.,\n",
      "       4832., 5598., 4832., 5598., 4832., 5598., 4832., 5598., 4832.,\n",
      "       5598., 4832., 5598., 4832., 5598., 4832., 5598., 4832., 5598.,\n",
      "       4832., 5598., 4832., 5598., 4832., 5598., 4832., 5598., 4832.,\n",
      "       5598., 4832., 5598., 4832., 5598., 4832., 5598., 4832., 5598.,\n",
      "       4832., 5598., 4832., 5598., 4832., 5598., 4832., 5598., 4832.,\n",
      "       5598., 4832., 5598., 4832., 5598., 4832., 5598., 4832., 5598.,\n",
      "       4832., 5598., 4832., 5598., 4832., 5598., 4832., 5598., 4832.,\n",
      "       5598., 4832., 5598., 4832., 4172., 3601., 3109., 1287., 1490.,\n",
      "       1727., 2000., 2317., 2684., 3109., 3601., 4172., 3601., 3109.,\n",
      "       2684., 2317., 2684., 1490., 1111., 1287., 1490., 1727., 2000.,\n",
      "       2317., 2684., 3109., 3601., 4172., 3601., 4172., 3601., 4172.,\n",
      "       3601., 4172., 3601., 4172., 3601., 4172., 3601., 4172., 3601.,\n",
      "       4172., 3601., 4172., 3601., 4172., 3601., 4172., 4832., 5598.,\n",
      "       6484., 5598., 6484., 7511., 6484., 5598., 4832., 4172., 3601.,\n",
      "       3109., 2684., 2317., 2000., 1727., 1490., 1287., 1111.,  959.,\n",
      "        828.,  715.,  617.,  715.,  828.,  959.,  828.,  715.,  828.,\n",
      "        715.,  828.,  715.,  828.,  715.,  828.,  715.,  617.,  533.,\n",
      "        460.,  397.,  460.,  397.,  460.,  397.,  460.,  397.,  460.,\n",
      "        397.,  460.,  397.,  460.,  533.,  617.,  715.,  828.,  959.,\n",
      "       1111., 1287., 1490., 1727., 2000., 1727., 2000., 2317., 2000.,\n",
      "       1727., 1490., 1287., 1490., 1287., 1490., 1287., 1111.,  959.,\n",
      "        828.,  959.,  828.,  715.,  828.,  959., 1111.,  959., 1111.,\n",
      "       1287., 1490., 1727., 1490., 1287., 1111.,  959., 1111., 1287.,\n",
      "       1111., 1287., 1490., 1287., 1111.,  959., 1111., 1287., 1111.,\n",
      "        959.,  617.,  533.,  460.,  533.,  715.,  617.,  715.,  828.,\n",
      "        959., 1111., 1287., 1490., 1727., 2000., 2317., 2684., 3109.,\n",
      "       3601., 3109., 2684., 2317., 2000., 1727., 1490., 1287.,  828.,\n",
      "        715.,  617.,  533.,  617.,  715.,  828.,  715.,  828.,  715.,\n",
      "        828.,  715.,  828.,  715.,  617.,  533.,  460.,  533.,  617.,\n",
      "        715.,  617.,  715.,  617.,  715.,  617.,  715.,  617.,  715.,\n",
      "        617.,  715.,  617.,  715.,  617.,  533.,  617.,  533.,  617.,\n",
      "        715.,  617.,  828.,  715.,  617.,  715.,  828.,  959., 1111.,\n",
      "       1287., 1727., 1490., 1287., 1111., 1287., 1490., 1287.,  715.,\n",
      "        617.,  533., 1287., 1490., 1287., 1111., 1287., 1490., 1287.,\n",
      "       1490.,  828.,  715.,  828., 1287.,  828.,  959.,  828.,  959.,\n",
      "        828.,  959.,  828.,  959.,  828.,  959.,  828.,  959.,  828.,\n",
      "        959.,  828.,  959.,  828.,  959.,  828.,  959.,  828.,  959.,\n",
      "        828.,  959.,  828.,  959.,  828., 1287., 1111., 2684., 1490.,\n",
      "       1727., 2000., 1727., 1490., 1727., 2317., 2000., 2317.,  828.,\n",
      "        959., 1111.,  715., 2000.,  828.,  617.,  533.,  460.,  533.,\n",
      "        617.,  533.,  617.,  715.,  828.,  959., 1111., 1287., 1490.,\n",
      "       1727., 1490., 1287., 1490., 1287., 1490., 1287., 1490., 1727.,\n",
      "       2000., 2317., 2684., 3109., 3601., 3109., 3601., 3109., 2684.,\n",
      "       2317., 2684., 2317., 2000., 1727., 2000., 2317., 2000., 1727.,\n",
      "       2000., 1727., 1490., 1287., 1111.,  959.,  828.,  959.,  828.,\n",
      "        959., 1111., 1287., 1111., 1287., 1111., 1287., 1111.,  959.,\n",
      "       1111., 1287., 1490., 1727., 2000., 2317., 2684., 3109., 2684.,\n",
      "       3109., 3601., 3109., 2684., 2317., 2684., 2317., 2684., 2317.,\n",
      "       2684., 2317., 2000., 1727., 1490., 1287., 1111.,  959.,  828.,\n",
      "        715.,  828.,  715.,  828.,  715.,  828.,  959., 1111.,  959.,\n",
      "       1111.,  959., 1111.,  959., 1111.,  959., 1111., 1287., 1490.,\n",
      "       1727., 2000., 2317., 2000., 2317., 2000., 2317., 2000., 2317.,\n",
      "       2000., 1727., 2000., 2317., 2684., 3109., 2684., 3109., 2684.,\n",
      "       3109., 2684., 3109., 2684., 3109., 2684., 3109., 2684., 3109.,\n",
      "       2684., 3109., 2684., 3109., 2684., 3109., 2684., 3109., 2684.,\n",
      "       3109., 2684., 3109., 2684., 3109., 3601., 4172., 3601., 4172.,\n",
      "       3601., 3109., 2684., 3109., 2684., 3109., 3601., 4172., 3601.,\n",
      "       4172., 3601., 4172., 3601., 4172., 3601., 4172., 3601., 4172.,\n",
      "       3601., 4172., 3601., 4172., 3601., 4172., 3601., 4172., 3601.,\n",
      "       4172., 3601., 4172., 3601., 4172., 3601., 4172., 3601., 4172.,\n",
      "       3601., 4172., 3601., 4172., 3601., 4172., 3601., 4172., 3601.,\n",
      "       4172., 3601., 4172., 3601., 4172., 3601., 4172., 3601., 4172.,\n",
      "       3601., 4172., 3601., 4172., 3601., 4172., 3601., 4172., 3601.,\n",
      "       4172., 3601., 4172., 3601., 4172., 3601., 4172., 3601., 4172.,\n",
      "       3601., 4172., 3601., 4172., 3601., 4172., 3601., 4172., 3601.,\n",
      "       4172., 3601., 4172., 3601., 4172., 3601., 4172., 3601., 4172.,\n",
      "       3601., 4172., 3601., 4172., 3601., 4172., 3601., 4172., 3601.,\n",
      "       4172., 3601., 4172., 3601., 4172., 3601., 4172., 3601., 4172.]), array([], dtype=int64)]\n"
     ]
    }
   ],
   "source": [
    "print(tt['mck_2'])"
   ]
  },
  {
   "cell_type": "code",
   "execution_count": 44,
   "metadata": {},
   "outputs": [],
   "source": [
    "np.savez(path+'tt.npz', tt)"
   ]
  },
  {
   "cell_type": "markdown",
   "metadata": {},
   "source": [
    "voila c'est tout depuis le debut pour faire le fichier tt quand il n'y a pas de mock triggers !"
   ]
  },
  {
   "cell_type": "code",
   "execution_count": 147,
   "metadata": {},
   "outputs": [],
   "source": [
    "import numpy as np\n",
    "file_path = '/mnt/working2/felicie/Python_theremin/Analyse/Analyse/Experiment/BURRATA/BURRATA_20240503_SESSION_02/headstage_1/tt.npz'\n",
    "#file_path = '/mnt/working2/felicie/Python_theremin/Analyse/Analyse/Experiment/FRINAULT/FRINAULT_20230223/tt.npz'\n",
    "def read_npz_file(file_path):\n",
    "    format_tt = []\n",
    "    # Load the .npz file\n",
    "    npz_file = np.load(file_path, allow_pickle=True)\n",
    "    \n",
    "    # Access the arrays stored in the .npz file\n",
    "    for array_name in npz_file:\n",
    "        array_data = npz_file[array_name]\n",
    "        format_tt.append(array_data)\n",
    "    return format_tt\n",
    "        \n",
    "\n",
    "# Example usage:\n",
    "\n",
    "mytt = read_npz_file(file_path)\n"
   ]
  }
 ],
 "metadata": {
  "kernelspec": {
   "display_name": "Python 3",
   "language": "python",
   "name": "python3"
  },
  "language_info": {
   "codemirror_mode": {
    "name": "ipython",
    "version": 3
   },
   "file_extension": ".py",
   "mimetype": "text/x-python",
   "name": "python",
   "nbconvert_exporter": "python",
   "pygments_lexer": "ipython3",
   "version": "3.8.10"
  }
 },
 "nbformat": 4,
 "nbformat_minor": 2
}
