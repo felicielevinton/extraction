{
 "cells": [
  {
   "cell_type": "code",
   "execution_count": 1,
   "metadata": {
    "collapsed": true
   },
   "outputs": [],
   "source": [
    "import get_data as gd\n",
    "\n",
    "folder = \"C:/Users/Flavi/data/EXPERIMENT/MUROLS/MUROLS_20230224/MUROLS_20230224_SESSION_00\"\n",
    "\n",
    "sequence = gd.extract_data(folder)"
   ]
  },
  {
   "cell_type": "markdown",
   "source": [
    "### Exemple 1.\n",
    "\n",
    "Je veux extraire la première session de tracking, et obtenir le premier trigger et le dernier trigger: en gros,\n",
    "je veux ces deux temps pour extraire la partie de LFP pertinente."
   ],
   "metadata": {
    "collapsed": false,
    "pycharm": {
     "name": "#%% md\n"
    }
   }
  },
  {
   "cell_type": "code",
   "source": [
    "tracking_1 = sequence.get_xp_number(\"tracking\", 1)\n",
    "\n",
    "begin, end = tracking_1.triggers[0], tracking_1.triggers[-1]\n",
    "\n",
    "print(begin, end)"
   ],
   "metadata": {
    "collapsed": false,
    "pycharm": {
     "name": "#%%\n"
    }
   },
   "execution_count": 2,
   "outputs": [
    {
     "name": "stdout",
     "output_type": "stream",
     "text": [
      "37901843.0 46887482.0\n"
     ]
    }
   ]
  },
  {
   "cell_type": "markdown",
   "source": [
    "### Exemple 2.\n",
    "\n"
   ],
   "metadata": {
    "collapsed": false
   }
  }
 ],
 "metadata": {
  "kernelspec": {
   "display_name": "Python 3",
   "language": "python",
   "name": "python3"
  },
  "language_info": {
   "codemirror_mode": {
    "name": "ipython",
    "version": 2
   },
   "file_extension": ".py",
   "mimetype": "text/x-python",
   "name": "python",
   "nbconvert_exporter": "python",
   "pygments_lexer": "ipython2",
   "version": "2.7.6"
  }
 },
 "nbformat": 4,
 "nbformat_minor": 0
}